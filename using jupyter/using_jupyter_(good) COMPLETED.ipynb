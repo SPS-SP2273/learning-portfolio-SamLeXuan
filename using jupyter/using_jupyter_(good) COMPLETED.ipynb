{
 "cells": [
  {
   "attachments": {},
   "cell_type": "markdown",
   "id": "123456",
   "metadata": {},
   "source": [
    "<div style=\"text-align:left;font-size:2em\"><span style=\"font-weight:bolder;font-size:1.25em\">SP2273 | Learning Portfolio</span><br><br><span style=\"font-weight:bold;color:darkred\">Using Jupyter (Good)</span></div>"
   ]
  },
  {
   "attachments": {},
   "cell_type": "markdown",
   "id": "3c4fc913",
   "metadata": {},
   "source": [
    "# What to expect in this chapter"
   ]
  },
  {
   "attachments": {},
   "cell_type": "markdown",
   "id": "dcb140de",
   "metadata": {},
   "source": [
    "# 1 Some tips and tricks"
   ]
  },
  {
   "attachments": {},
   "cell_type": "markdown",
   "id": "daf6e91d",
   "metadata": {},
   "source": [
    "## 1.1 Keyboard Shortcuts"
   ]
  },
  {
   "cell_type": "markdown",
   "id": "a68ec8a4-5e8b-4933-b2e3-f5c6d362b7d4",
   "metadata": {},
   "source": [
    "run cell -- ctrl + enter\n",
    "\n",
    "run cell + move to next -- shift enter\n",
    "\n",
    "convert cell to code cell -- esc + y\n",
    "\n",
    "convert cell to markdown cell -- esc + m\n",
    "\n",
    "create new cell -- esc + A/B (top)/(bottom)\n",
    "\n",
    "copy cell -- esc + c\n",
    "\n",
    "past cell -- esc v \n",
    "\n",
    "###many functions are similar to normal ones but instead of \"shift\", use \"esc\"\n",
    "\n",
    "merge cell -- shift M\n",
    "\n",
    "delete cell -- esc D + D\n",
    "\n",
    "show shortcuts -- esc + H "
   ]
  },
  {
   "attachments": {},
   "cell_type": "markdown",
   "id": "d206ccf9",
   "metadata": {},
   "source": [
    "### Things to note"
   ]
  },
  {
   "cell_type": "code",
   "execution_count": null,
   "id": "fd012a8f-4e37-417c-bcf1-7b15138b7bcb",
   "metadata": {},
   "outputs": [],
   "source": [
    "# select one or more cells -- shift + up and down\n",
    "# what do you mean that the delete shortcut can be useless?"
   ]
  },
  {
   "attachments": {},
   "cell_type": "markdown",
   "id": "1f7a590c",
   "metadata": {},
   "source": [
    "## 1.2 Shell commands"
   ]
  },
  {
   "cell_type": "code",
   "execution_count": 5,
   "id": "1ac3f466-a374-4c49-9ef1-7c5aea8a0074",
   "metadata": {},
   "outputs": [
    {
     "name": "stdout",
     "output_type": "stream",
     "text": [
      "C:\\Users\\lxsam\\Documents\\GitHub\\learning-portfolio-SamLeXuan\\using jupyter\n"
     ]
    }
   ],
   "source": [
    "!cd \n",
    "# current working directory (folder one is working on currently)"
   ]
  },
  {
   "cell_type": "code",
   "execution_count": 6,
   "id": "143716ca-7e2f-48fc-9f9f-37f8105e128e",
   "metadata": {},
   "outputs": [
    {
     "name": "stdout",
     "output_type": "stream",
     "text": [
      " Volume in drive C is Windows\n",
      " Volume Serial Number is 906C-36BB\n",
      "\n",
      " Directory of C:\\Users\\lxsam\\Documents\\GitHub\\learning-portfolio-SamLeXuan\\using jupyter\n",
      "\n",
      "07/02/2024  04:20 pm    <DIR>          .\n",
      "07/02/2024  04:20 pm    <DIR>          ..\n",
      "23/01/2024  02:15 pm    <DIR>          .ipynb_checkpoints\n",
      "19/01/2024  05:14 pm            34,684 using_jupyter (need) COMPLETED.ipynb\n",
      "07/02/2024  04:20 pm             4,285 using_jupyter_(good).ipynb\n",
      "17/01/2024  09:13 am             2,949 using_jupyter_(need).ipynb\n",
      "               3 File(s)         41,918 bytes\n",
      "               3 Dir(s)  247,507,746,816 bytes free\n"
     ]
    }
   ],
   "source": [
    "!dir"
   ]
  },
  {
   "attachments": {},
   "cell_type": "markdown",
   "id": "f228b621",
   "metadata": {},
   "source": [
    "# 2 Jupyter Extensions"
   ]
  },
  {
   "attachments": {},
   "cell_type": "markdown",
   "id": "9bcc4615",
   "metadata": {},
   "source": [
    "## 2.1 Installing the extensions"
   ]
  },
  {
   "attachments": {},
   "cell_type": "markdown",
   "id": "db7b38f7",
   "metadata": {},
   "source": [
    "## 2.2 Enabling the extensions"
   ]
  },
  {
   "attachments": {},
   "cell_type": "markdown",
   "id": "1b4fb3d7",
   "metadata": {},
   "source": [
    "# 3 Shell Magic"
   ]
  },
  {
   "cell_type": "code",
   "execution_count": 8,
   "id": "c66ae5e5-573e-473c-ad66-440973839e8a",
   "metadata": {},
   "outputs": [
    {
     "name": "stdout",
     "output_type": "stream",
     "text": [
      "12.3 ns ± 0.642 ns per loop (mean ± std. dev. of 7 runs, 100,000,000 loops each)\n"
     ]
    }
   ],
   "source": [
    "%timeit x=10 #average time taken for command to be executed (in this line)"
   ]
  },
  {
   "cell_type": "code",
   "execution_count": 9,
   "id": "f9ec4980-7196-416f-9d33-ad380671c85c",
   "metadata": {},
   "outputs": [
    {
     "name": "stdout",
     "output_type": "stream",
     "text": [
      "28.5 ns ± 9.52 ns per loop (mean ± std. dev. of 7 runs, 10,000,000 loops each)\n"
     ]
    }
   ],
   "source": [
    "%%timeit #average time taken for the BLOCK of code to run\n",
    "x=10\n",
    "y=10\n",
    "z=10"
   ]
  },
  {
   "attachments": {},
   "cell_type": "markdown",
   "id": "6c087973",
   "metadata": {},
   "source": [
    "# 4 The Kernel"
   ]
  },
  {
   "cell_type": "code",
   "execution_count": 10,
   "id": "f4c048d8-1265-4394-9479-6780a1fe5dd7",
   "metadata": {},
   "outputs": [],
   "source": [
    "# interrupt, restart of shutdown kernel,,especially important when a bug causes code to go on infintely"
   ]
  },
  {
   "attachments": {},
   "cell_type": "markdown",
   "id": "79151958",
   "metadata": {},
   "source": [
    "# 5 EX"
   ]
  }
 ],
 "metadata": {
  "kernelspec": {
   "display_name": "Python 3 (ipykernel)",
   "language": "python",
   "name": "python3"
  },
  "language_info": {
   "codemirror_mode": {
    "name": "ipython",
    "version": 3
   },
   "file_extension": ".py",
   "mimetype": "text/x-python",
   "name": "python",
   "nbconvert_exporter": "python",
   "pygments_lexer": "ipython3",
   "version": "3.11.5"
  },
  "toc": {
   "base_numbering": 1,
   "nav_menu": {},
   "number_sections": true,
   "sideBar": true,
   "skip_h1_title": false,
   "title_cell": "Table of Contents",
   "title_sidebar": "Contents",
   "toc_cell": false,
   "toc_position": {},
   "toc_section_display": true,
   "toc_window_display": false
  },
  "vscode": {
   "interpreter": {
    "hash": "31f2aee4e71d21fbe5cf8b01ff0e069b9275f58929596ceb00d14d90e3e16cd6"
   }
  }
 },
 "nbformat": 4,
 "nbformat_minor": 5
}
