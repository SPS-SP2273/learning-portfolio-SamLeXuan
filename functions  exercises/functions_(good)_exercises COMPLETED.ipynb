{
 "cells": [
  {
   "attachments": {},
   "cell_type": "markdown",
   "id": "123456",
   "metadata": {},
   "source": [
    "<div style=\"text-align:left;font-size:2em\"><span style=\"font-weight:bolder;font-size:1.25em\">SP2273 | Learning Portfolio</span><br><br><span style=\"font-weight:bold;color:darkred\">Functions (Good) Exercises</span></div>"
   ]
  },
  {
   "cell_type": "code",
   "execution_count": 83,
   "id": "587ea62f-9650-4708-aa3d-ad6df2cd678b",
   "metadata": {},
   "outputs": [],
   "source": [
    "def convert_celsius(temperature_celsius, target_scale=\"Fahrenheit\"):\n",
    "    if target_scale==\"K\" or target_scale==\"Kelvin\":\n",
    "        return f'{temperature_celsius}°C is {temperature_celsius + 273.15:.2f}K'\n",
    "    else:\n",
    "            return f'{tempterature_celsius}°C is {temperature_celsius * 9/5 + 32:.2f}°F'"
   ]
  },
  {
   "cell_type": "code",
   "execution_count": 79,
   "id": "48e078d5-cade-444e-b695-ea1a164a4f99",
   "metadata": {},
   "outputs": [],
   "source": [
    "def convert_fahrenheit(temperature_fahrenheit, target_scale=\"Celsius\"):\n",
    "    if target_scale==\"K\" or target_scale==\"Kelvin\":\n",
    "        return f'{temperature_fahrenheit}°F is {(temperature_fahrenheit - 32) * 5/9 + 273.15:.2f}K'\n",
    "    else:\n",
    "        return f'{temperature_fahrenheit}°F is {(temperature_fahrenheit - 32) * 5/9:.2f}°C'"
   ]
  },
  {
   "cell_type": "code",
   "execution_count": 95,
   "id": "8b52f9e3-5e46-4665-8a29-3dbbb8b5b6ea",
   "metadata": {},
   "outputs": [],
   "source": [
    "def convert_kelvin(temperature_kelvin, target_scale=\"Celsius\"):\n",
    "    if target_scale==\"Celsius\":\n",
    "        return f'{temperature_kelvin}K is {(temperature_kelvin - 273.15):.2f}°C'\n",
    "    else:\n",
    "        return f'{temperature_kelvin}K is {(temperature_kelvin - 273.15) * 9/5 + 32:.2f}°F'"
   ]
  },
  {
   "cell_type": "code",
   "execution_count": 98,
   "id": "f700c2cf-2626-435d-9c95-f4c1cbd254ec",
   "metadata": {},
   "outputs": [],
   "source": [
    "def convert_temperature(temperature, source_scale=\"Celsius\", target_scale=\"Fahrenheit\"):\n",
    "    if source_scale==\"Fahrenheit\":\n",
    "        if target_scale==\"Kelvin\":\n",
    "            return convert_fahrenheit(temperature, target_scale=\"Kelvin\")\n",
    "        return convert_fahrenheit(temperature, target_scale=\"Celsius\")\n",
    "    elif source_scale==\"Kelvin\":\n",
    "        if target_scale==\"Fahrenheit\":\n",
    "            return convert_kelvin(temperature, target_scale=\"Fahrenheit\")\n",
    "        return convert_kelvin(temperature, target_scale=\"Celsius\")\n",
    "    else:\n",
    "        if target_scale==\"Kelvin\":\n",
    "            return convert_celsius(temperature, target_scale=\"Kelvin\")\n",
    "    return convert_celsius(temperature, target_scale=\"Fahrenheit\")"
   ]
  },
  {
   "cell_type": "code",
   "execution_count": null,
   "id": "3d321e8f-28a2-4c02-ac62-65b6d9e786d1",
   "metadata": {},
   "outputs": [],
   "source": []
  }
 ],
 "metadata": {
  "kernelspec": {
   "display_name": "Python 3 (ipykernel)",
   "language": "python",
   "name": "python3"
  },
  "language_info": {
   "codemirror_mode": {
    "name": "ipython",
    "version": 3
   },
   "file_extension": ".py",
   "mimetype": "text/x-python",
   "name": "python",
   "nbconvert_exporter": "python",
   "pygments_lexer": "ipython3",
   "version": "3.11.5"
  },
  "toc": {
   "base_numbering": 1,
   "nav_menu": {},
   "number_sections": true,
   "sideBar": true,
   "skip_h1_title": false,
   "title_cell": "Table of Contents",
   "title_sidebar": "Contents",
   "toc_cell": false,
   "toc_position": {},
   "toc_section_display": true,
   "toc_window_display": false
  },
  "vscode": {
   "interpreter": {
    "hash": "31f2aee4e71d21fbe5cf8b01ff0e069b9275f58929596ceb00d14d90e3e16cd6"
   }
  }
 },
 "nbformat": 4,
 "nbformat_minor": 5
}
