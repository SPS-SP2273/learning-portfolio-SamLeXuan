{
 "cells": [
  {
   "attachments": {},
   "cell_type": "markdown",
   "id": "123456",
   "metadata": {},
   "source": [
    "<div style=\"text-align:left;font-size:2em\"><span style=\"font-weight:bolder;font-size:1.25em\">SP2273 | Learning Portfolio</span><br><br><span style=\"font-weight:bold;color:darkred\">Functions (Good) Exercises</span></div>"
   ]
  },
  {
   "cell_type": "code",
   "execution_count": 12,
   "id": "587ea62f-9650-4708-aa3d-ad6df2cd678b",
   "metadata": {},
   "outputs": [],
   "source": [
    "def convert_celsius(temperature_celsius, target_scale=\"Fahrenheit\"):\n",
    "    if target_scale==\"K\" or target_scale==\"Kelvin\":\n",
    "        return f'{temperature_celsius}°C is {temperature_celsius + 273.15:.2f}K'\n",
    "    else:\n",
    "            return f'{tempterature_celsius}°C is {temperature_celsius * 9/5 + 32:.2f}°F'"
   ]
  },
  {
   "cell_type": "code",
   "execution_count": 13,
   "id": "48e078d5-cade-444e-b695-ea1a164a4f99",
   "metadata": {},
   "outputs": [],
   "source": [
    "def convert_fahrenheit(temperature_fahrenheit, target_scale=\"Celsius\"):\n",
    "    if target_scale==\"K\" or target_scale==\"Kelvin\":\n",
    "        return f'{temperature_fahrenheit}°F is {(temperature_fahrenheit - 32) * 5/9 + 273.15:.2f}K'\n",
    "    else:\n",
    "        return f'{temperature_fahrenheit}°F is {(temperature_fahrenheit - 32) * 5/9:.2f}°C'"
   ]
  },
  {
   "cell_type": "code",
   "execution_count": 14,
   "id": "8b52f9e3-5e46-4665-8a29-3dbbb8b5b6ea",
   "metadata": {},
   "outputs": [],
   "source": [
    "def convert_kelvin(temperature_kelvin, target_scale=\"Celsius\"):\n",
    "    if target_scale==\"Celsius\":\n",
    "        return f'{temperature_kelvin}K is {(temperature_kelvin - 273.15):.2f}°C'\n",
    "    else:\n",
    "        return f'{temperature_kelvin}K is {(temperature_kelvin - 273.15) * 9/5 + 32:.2f}°F'"
   ]
  },
  {
   "cell_type": "code",
   "execution_count": 15,
   "id": "f700c2cf-2626-435d-9c95-f4c1cbd254ec",
   "metadata": {},
   "outputs": [],
   "source": [
    "def convert_temperature(temperature, source_scale=\"Celsius\", target_scale=\"Fahrenheit\"):\n",
    "    if source_scale==\"Fahrenheit\":\n",
    "        if target_scale==\"Kelvin\":\n",
    "            return convert_fahrenheit(temperature, target_scale=\"Kelvin\")\n",
    "        return convert_fahrenheit(temperature, target_scale=\"Celsius\")\n",
    "    elif source_scale==\"Kelvin\":\n",
    "        if target_scale==\"Fahrenheit\":\n",
    "            return convert_kelvin(temperature, target_scale=\"Fahrenheit\")\n",
    "        return convert_kelvin(temperature, target_scale=\"Celsius\")\n",
    "    else:\n",
    "        if target_scale==\"Kelvin\":\n",
    "            return convert_celsius(temperature, target_scale=\"Kelvin\")\n",
    "    return convert_celsius(temperature, target_scale=\"Fahrenheit\")"
   ]
  },
  {
   "cell_type": "code",
   "execution_count": 9,
   "id": "205af218-3ee3-420c-8252-72d6e948cbb6",
   "metadata": {},
   "outputs": [],
   "source": [
    "def convert_temperature(temperature, source_scale=\"Celsius\", target_scale=\"Fahrenheit\"):\n",
    "    if source_scale == \"Fahrenheit\":\n",
    "        return convert_fahrenheit(temperature, target_scale)\n",
    "    elif source_scale == \"Kelvin\":\n",
    "        return convert_kelvin(temperature, target_scale)\n",
    "    else:\n",
    "        return convert_celsius(temperature, target_scale)\n"
   ]
  },
  {
   "cell_type": "code",
   "execution_count": 11,
   "id": "5d33f11f-2ed4-49db-9504-4c246ae7784e",
   "metadata": {},
   "outputs": [
    {
     "ename": "NameError",
     "evalue": "name 'tempterature_celsius' is not defined",
     "output_type": "error",
     "traceback": [
      "\u001b[1;31m---------------------------------------------------------------------------\u001b[0m",
      "\u001b[1;31mNameError\u001b[0m                                 Traceback (most recent call last)",
      "Cell \u001b[1;32mIn[11], line 1\u001b[0m\n\u001b[1;32m----> 1\u001b[0m convert_temperature(\u001b[38;5;241m57\u001b[39m, source_scale\u001b[38;5;241m=\u001b[39m\u001b[38;5;124m\"\u001b[39m\u001b[38;5;124mCelsius\u001b[39m\u001b[38;5;124m\"\u001b[39m, target_scale\u001b[38;5;241m=\u001b[39m\u001b[38;5;124m\"\u001b[39m\u001b[38;5;124mFahrenheit\u001b[39m\u001b[38;5;124m\"\u001b[39m)\n",
      "Cell \u001b[1;32mIn[9], line 7\u001b[0m, in \u001b[0;36mconvert_temperature\u001b[1;34m(temperature, source_scale, target_scale)\u001b[0m\n\u001b[0;32m      5\u001b[0m     \u001b[38;5;28;01mreturn\u001b[39;00m convert_kelvin(temperature, target_scale)\n\u001b[0;32m      6\u001b[0m \u001b[38;5;28;01melse\u001b[39;00m:\n\u001b[1;32m----> 7\u001b[0m     \u001b[38;5;28;01mreturn\u001b[39;00m convert_celsius(temperature, target_scale)\n",
      "Cell \u001b[1;32mIn[6], line 5\u001b[0m, in \u001b[0;36mconvert_celsius\u001b[1;34m(temperature_celsius, target_scale)\u001b[0m\n\u001b[0;32m      3\u001b[0m     \u001b[38;5;28;01mreturn\u001b[39;00m \u001b[38;5;124mf\u001b[39m\u001b[38;5;124m'\u001b[39m\u001b[38;5;132;01m{\u001b[39;00mtemperature_celsius\u001b[38;5;132;01m}\u001b[39;00m\u001b[38;5;124m°C is \u001b[39m\u001b[38;5;132;01m{\u001b[39;00mtemperature_celsius\u001b[38;5;250m \u001b[39m\u001b[38;5;241m+\u001b[39m\u001b[38;5;250m \u001b[39m\u001b[38;5;241m273.15\u001b[39m\u001b[38;5;132;01m:\u001b[39;00m\u001b[38;5;124m.2f\u001b[39m\u001b[38;5;132;01m}\u001b[39;00m\u001b[38;5;124mK\u001b[39m\u001b[38;5;124m'\u001b[39m\n\u001b[0;32m      4\u001b[0m \u001b[38;5;28;01melse\u001b[39;00m:\n\u001b[1;32m----> 5\u001b[0m         \u001b[38;5;28;01mreturn\u001b[39;00m \u001b[38;5;124mf\u001b[39m\u001b[38;5;124m'\u001b[39m\u001b[38;5;132;01m{\u001b[39;00mtempterature_celsius\u001b[38;5;132;01m}\u001b[39;00m\u001b[38;5;124m°C is \u001b[39m\u001b[38;5;132;01m{\u001b[39;00mtemperature_celsius\u001b[38;5;250m \u001b[39m\u001b[38;5;241m*\u001b[39m\u001b[38;5;250m \u001b[39m\u001b[38;5;241m9\u001b[39m\u001b[38;5;241m/\u001b[39m\u001b[38;5;241m5\u001b[39m\u001b[38;5;250m \u001b[39m\u001b[38;5;241m+\u001b[39m\u001b[38;5;250m \u001b[39m\u001b[38;5;241m32\u001b[39m\u001b[38;5;132;01m:\u001b[39;00m\u001b[38;5;124m.2f\u001b[39m\u001b[38;5;132;01m}\u001b[39;00m\u001b[38;5;124m°F\u001b[39m\u001b[38;5;124m'\u001b[39m\n",
      "\u001b[1;31mNameError\u001b[0m: name 'tempterature_celsius' is not defined"
     ]
    }
   ],
   "source": []
  },
  {
   "cell_type": "code",
   "execution_count": null,
   "id": "4510372c-b3aa-424f-a0ab-2ce45a3c7338",
   "metadata": {},
   "outputs": [],
   "source": []
  }
 ],
 "metadata": {
  "kernelspec": {
   "display_name": "Python 3 (ipykernel)",
   "language": "python",
   "name": "python3"
  },
  "language_info": {
   "codemirror_mode": {
    "name": "ipython",
    "version": 3
   },
   "file_extension": ".py",
   "mimetype": "text/x-python",
   "name": "python",
   "nbconvert_exporter": "python",
   "pygments_lexer": "ipython3",
   "version": "3.11.5"
  },
  "toc": {
   "base_numbering": 1,
   "nav_menu": {},
   "number_sections": true,
   "sideBar": true,
   "skip_h1_title": false,
   "title_cell": "Table of Contents",
   "title_sidebar": "Contents",
   "toc_cell": false,
   "toc_position": {},
   "toc_section_display": true,
   "toc_window_display": false
  },
  "vscode": {
   "interpreter": {
    "hash": "31f2aee4e71d21fbe5cf8b01ff0e069b9275f58929596ceb00d14d90e3e16cd6"
   }
  }
 },
 "nbformat": 4,
 "nbformat_minor": 5
}
