{
 "cells": [
  {
   "attachments": {},
   "cell_type": "markdown",
   "id": "123456",
   "metadata": {},
   "source": [
    "<div style=\"text-align:left;font-size:2em\"><span style=\"font-weight:bolder;font-size:1.25em\">SP2273 | Learning Portfolio</span><br><br><span style=\"font-weight:bold;color:darkred\">Functions (Need) Exercises</span></div>"
   ]
  },
  {
   "cell_type": "code",
   "execution_count": 19,
   "id": "4341f7ab-7f79-46e6-8035-8877256f1cf0",
   "metadata": {},
   "outputs": [],
   "source": [
    "def greeting(name): #explain why this works without if else\n",
    "    if name == 'Batman':\n",
    "        return 'Hello Batman! So, nice to meet you!'\n",
    "    return f'Hello {name}!'"
   ]
  },
  {
   "cell_type": "markdown",
   "id": "9b3bc67b-7b40-49da-94a3-bb4fc5de0591",
   "metadata": {},
   "source": [
    "### if only provide the condition where name == 'Batman', only then will the the purpose of the function be to indicate 'Hello Batman! So, nice to meet you!'. Else is not required because if the name isn't 'Batman' the conditional statement is passed and the new purpose of the 'greeting' function is to indicate a 'Hello {name}!'--> like a default return value"
   ]
  },
  {
   "cell_type": "code",
   "execution_count": 10,
   "id": "60d0357d-e449-4ace-b466-391df1988cb5",
   "metadata": {},
   "outputs": [],
   "source": [
    "def calculate_bmi(bmi):\n",
    "    if bmi<18.5:\n",
    "        return'You are underweight'\n",
    "    elif 18.5<=bmi<=24.9:\n",
    "        return 'You are normal weight'\n",
    "    elif 25<=bmi<=29.9:\n",
    "        return 'You are overweight'\n",
    "    return 'You are obese'"
   ]
  },
  {
   "cell_type": "code",
   "execution_count": 17,
   "id": "5c1b59a2-9372-439e-9198-cd19358c0624",
   "metadata": {},
   "outputs": [
    {
     "name": "stdin",
     "output_type": "stream",
     "text": [
      "Enter weight (in kg):  34\n",
      "Enter height (in meters):  6\n"
     ]
    },
    {
     "name": "stdout",
     "output_type": "stream",
     "text": [
      "You are underweight\n"
     ]
    }
   ],
   "source": [
    "try:\n",
    "    weight = float(input(\"Enter weight (in kg): \"))\n",
    "    height = float(input(\"Enter height (in meters): \"))\n",
    "\n",
    "    if weight <= 0 or height <= 0:\n",
    "        print(\"Please enter valid positive values for weight and height.\")\n",
    "    else:\n",
    "        bmi = weight / (height ** 2)\n",
    "        result = calculate_bmi(bmi)\n",
    "        print(result)\n",
    "except ValueError:\n",
    "    print(\"Please enter valid numeric values for weight and height.\")"
   ]
  },
  {
   "cell_type": "code",
   "execution_count": null,
   "id": "fe7c07a8-bf59-4e6f-8756-cd9f6859ae9f",
   "metadata": {},
   "outputs": [],
   "source": []
  }
 ],
 "metadata": {
  "kernelspec": {
   "display_name": "Python 3 (ipykernel)",
   "language": "python",
   "name": "python3"
  },
  "language_info": {
   "codemirror_mode": {
    "name": "ipython",
    "version": 3
   },
   "file_extension": ".py",
   "mimetype": "text/x-python",
   "name": "python",
   "nbconvert_exporter": "python",
   "pygments_lexer": "ipython3",
   "version": "3.11.5"
  },
  "toc": {
   "base_numbering": 1,
   "nav_menu": {},
   "number_sections": true,
   "sideBar": true,
   "skip_h1_title": false,
   "title_cell": "Table of Contents",
   "title_sidebar": "Contents",
   "toc_cell": false,
   "toc_position": {},
   "toc_section_display": true,
   "toc_window_display": false
  },
  "vscode": {
   "interpreter": {
    "hash": "31f2aee4e71d21fbe5cf8b01ff0e069b9275f58929596ceb00d14d90e3e16cd6"
   }
  }
 },
 "nbformat": 4,
 "nbformat_minor": 5
}
