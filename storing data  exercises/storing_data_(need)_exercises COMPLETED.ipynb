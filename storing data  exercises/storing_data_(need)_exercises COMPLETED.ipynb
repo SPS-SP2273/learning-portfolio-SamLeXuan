{
 "cells": [
  {
   "attachments": {},
   "cell_type": "markdown",
   "id": "123456",
   "metadata": {},
   "source": [
    "<div style=\"text-align:left;font-size:2em\"><span style=\"font-weight:bolder;font-size:1.25em\">SP2273 | Learning Portfolio</span><br><br><span style=\"font-weight:bold;color:darkred\">Storing Data (Need) Exercises</span></div>"
   ]
  },
  {
   "cell_type": "markdown",
   "id": "9f16539a-8a88-48ec-b99d-59fb85d8cc2a",
   "metadata": {},
   "source": [
    "#exercise 1\n",
    "Exercise 1\n",
    "1. Elements in both lists and arrays can be accessed using indices\n",
    "2. Elements are stored and accessed in a sequential manner, and their positions within the collection are fixed unless explicitly modified.\n",
    "3. Lists are unable to multiply by coefficients and only add on to the list of elements. Arrays are able to multiply coefficients to the elements already in the data set.\n",
    "4. Numbers cannot be added to elements in a list but can be added to elements in an array.\n",
    "5. Lists and numpy arrays are mutable while tuples are immutable. # depends on the context (when the programme is super long, and you need to save memory and time, use tuple)\n",
    "6. A dictionary is a list that dictates a value to a key.\n"
   ]
  },
  {
   "cell_type": "code",
   "execution_count": 4,
   "id": "e28b2dbd-8318-49d3-916f-e09a3e97dd90",
   "metadata": {},
   "outputs": [
    {
     "name": "stdout",
     "output_type": "stream",
     "text": [
      "['a1', 'c3', 'e5', 'g7', 'i9']\n"
     ]
    }
   ],
   "source": [
    "# exercise 2\n",
    "py_list = [\"a1\", \"b2\", \"c3\", \"d4\", \"e5\", \"f6\", \"g7\", \"h8\", \"i9\", \"j10\"]\n",
    "                    # Prints 'a1'\n",
    "                    # Prints 'c3'\n",
    "                    # Prints 'e5'\n",
    "                    # Prints 'g7'\n",
    "print(py_list[0:9:2])    # Prints 'i9'\n",
    "# 0:9:2 --> extract from index 0-9(exclusive) by 2 steps to get odd number"
   ]
  },
  {
   "cell_type": "code",
   "execution_count": 2,
   "id": "9bee4602-1a1a-42de-86ac-96fa6a5fe0b8",
   "metadata": {},
   "outputs": [
    {
     "data": {
      "text/plain": [
       "'Boron'"
      ]
     },
     "execution_count": 2,
     "metadata": {},
     "output_type": "execute_result"
    }
   ],
   "source": [
    "elements = ['Hydrogen',\n",
    "            'Helium', 'Lithium',\n",
    "            'Beryllium', 'Boron', 'Carbon',\n",
    "            'Nitrogen', 'Oxygen',\n",
    "            'Fluorine',\n",
    "            'Neon']\n",
    "elements[4] \n",
    "# no need print function, python automatically print last line provided that it is a variable with value"
   ]
  },
  {
   "cell_type": "code",
   "execution_count": 9,
   "id": "92e799a4-da1d-4155-92ba-40526842a36d",
   "metadata": {},
   "outputs": [
    {
     "name": "stdout",
     "output_type": "stream",
     "text": [
      "Boron\n"
     ]
    }
   ],
   "source": [
    "elements = ['Hydrogen',\n",
    "            'Helium', 'Lithium',\n",
    "            'Beryllium', 'Boron', 'Carbon',\n",
    "            'Nitrogen', 'Oxygen',\n",
    "            'Fluorine',\n",
    "            'Neon']\n",
    "print(elements[-6]) # do we need to add the \"print()\" function?"
   ]
  },
  {
   "cell_type": "code",
   "execution_count": 1,
   "id": "b2202057-e1ff-4c74-a4e3-b08f70ce0ba6",
   "metadata": {},
   "outputs": [
    {
     "name": "stdout",
     "output_type": "stream",
     "text": [
      "9\n"
     ]
    }
   ],
   "source": [
    "import numpy as np\n",
    "numbers=[45, 60, 1, 30, 96, 1, 96, 57, 16, 1,\n",
    "        99, 62, 86, 43, 42, 60, 59, 1, 1, 35,\n",
    "        83, 47, 34, 28, 68, 23, 22, 92, 1, 79,\n",
    "        1, 29, 94, 72, 46, 47, 1, 74, 32, 20,\n",
    "        8, 37, 35, 1, 89, 29, 86, 19, 43, 61]   \n",
    "numpy_array = np.array(numbers)\n",
    "count_true = np.sum(numpy_array == 1)\n",
    "print(count_true)"
   ]
  },
  {
   "cell_type": "code",
   "execution_count": null,
   "id": "5c4b7ce2-fb66-4d73-8c1b-33247c0a5924",
   "metadata": {},
   "outputs": [],
   "source": []
  }
 ],
 "metadata": {
  "kernelspec": {
   "display_name": "Python 3 (ipykernel)",
   "language": "python",
   "name": "python3"
  },
  "language_info": {
   "codemirror_mode": {
    "name": "ipython",
    "version": 3
   },
   "file_extension": ".py",
   "mimetype": "text/x-python",
   "name": "python",
   "nbconvert_exporter": "python",
   "pygments_lexer": "ipython3",
   "version": "3.11.5"
  },
  "toc": {
   "base_numbering": 1,
   "nav_menu": {},
   "number_sections": true,
   "sideBar": true,
   "skip_h1_title": false,
   "title_cell": "Table of Contents",
   "title_sidebar": "Contents",
   "toc_cell": false,
   "toc_position": {},
   "toc_section_display": true,
   "toc_window_display": false
  },
  "vscode": {
   "interpreter": {
    "hash": "31f2aee4e71d21fbe5cf8b01ff0e069b9275f58929596ceb00d14d90e3e16cd6"
   }
  }
 },
 "nbformat": 4,
 "nbformat_minor": 5
}
