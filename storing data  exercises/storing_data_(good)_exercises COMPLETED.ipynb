{
 "cells": [
  {
   "attachments": {},
   "cell_type": "markdown",
   "id": "123456",
   "metadata": {},
   "source": [
    "<div style=\"text-align:left;font-size:2em\"><span style=\"font-weight:bolder;font-size:1.25em\">SP2273 | Learning Portfolio</span><br><br><span style=\"font-weight:bold;color:darkred\">Storing Data (Good) Exercises</span></div>"
   ]
  },
  {
   "cell_type": "code",
   "execution_count": 1,
   "id": "2c1226aa-7b71-42c7-8c09-2df89b255213",
   "metadata": {},
   "outputs": [],
   "source": [
    "#Subsetting: Selecting\n",
    "#Indexing :The index of an element is determine by its position in the list\n",
    "#Slicing : determining the range of data that you want to use \n",
    "        # format of list splicing --> [start:stop:step]\n",
    "            # start is the index of the list where slicing starts.\n",
    "            # stop is the index of the list where slicing ends.\n",
    "            # step allows you to select nth item within the range start to stop.\n",
    "#Masking : Hiding unwanted data from the list"
   ]
  },
  {
   "cell_type": "code",
   "execution_count": 6,
   "id": "e3dca14c-2e64-448a-bd91-f099bbc66c58",
   "metadata": {},
   "outputs": [
    {
     "data": {
      "text/plain": [
       "array(['A', 'C', 'E', 'G', 'I'], dtype='<U11')"
      ]
     },
     "execution_count": 6,
     "metadata": {},
     "output_type": "execute_result"
    }
   ],
   "source": [
    "import numpy as np\n",
    "np_array_2d = np.array([[1, \"A\"], [3, \"C\"], [2, \"B\"], [4, \"D\"],\n",
    "                        [5, \"E\"], [7, \"G\"], [6, \"F\"], [8, \"H\"],\n",
    "                        [10, \"J\"], [9, \"I\"]])\n",
    "arr = np_array_2d[:,0].astype(int) #numpy array restriction disallows more than one type of data in an array. astype(int) converts all numbers to integers\n",
    "my_mask = arr % 2 == 1 #masking sets a limit to what you want and prints out true\n",
    "np_array_2d[my_mask,1] #masking line"
   ]
  },
  {
   "cell_type": "code",
   "execution_count": 8,
   "id": "fb2ee5c5-f3b3-4b15-879c-256bd3867d99",
   "metadata": {},
   "outputs": [
    {
     "name": "stdout",
     "output_type": "stream",
     "text": [
      "[ True  True False False  True  True False False False  True]\n"
     ]
    },
    {
     "data": {
      "text/plain": [
       "array(['1', '3', '5', '7', '9'], dtype='<U11')"
      ]
     },
     "execution_count": 8,
     "metadata": {},
     "output_type": "execute_result"
    }
   ],
   "source": [
    "import numpy as np\n",
    "np_array_2d = np.array([[1, \"A\"], [3, \"C\"], [2, \"B\"], [4, \"D\"],\n",
    "                        [5, \"E\"], [7, \"G\"], [6, \"F\"], [8, \"H\"],\n",
    "                        [10, \"J\"], [9, \"I\"]])\n",
    "arr = np_array_2d[:,0].astype(int) #numpy array restriction disallows more than one type of data in an array. astype(int) converts all numbers to integers\n",
    "my_mask = arr % 2 == 1 #masking sets a limit to what you want and prints out true\n",
    "print(my_mask)\n",
    "np_array_2d[my_mask,0] #masking line"
   ]
  },
  {
   "cell_type": "code",
   "execution_count": null,
   "id": "55dcc103-f791-44e7-b842-95efb83936e2",
   "metadata": {},
   "outputs": [],
   "source": []
  }
 ],
 "metadata": {
  "kernelspec": {
   "display_name": "Python 3 (ipykernel)",
   "language": "python",
   "name": "python3"
  },
  "language_info": {
   "codemirror_mode": {
    "name": "ipython",
    "version": 3
   },
   "file_extension": ".py",
   "mimetype": "text/x-python",
   "name": "python",
   "nbconvert_exporter": "python",
   "pygments_lexer": "ipython3",
   "version": "3.11.5"
  },
  "toc": {
   "base_numbering": 1,
   "nav_menu": {},
   "number_sections": true,
   "sideBar": true,
   "skip_h1_title": false,
   "title_cell": "Table of Contents",
   "title_sidebar": "Contents",
   "toc_cell": false,
   "toc_position": {},
   "toc_section_display": true,
   "toc_window_display": false
  },
  "vscode": {
   "interpreter": {
    "hash": "31f2aee4e71d21fbe5cf8b01ff0e069b9275f58929596ceb00d14d90e3e16cd6"
   }
  }
 },
 "nbformat": 4,
 "nbformat_minor": 5
}
