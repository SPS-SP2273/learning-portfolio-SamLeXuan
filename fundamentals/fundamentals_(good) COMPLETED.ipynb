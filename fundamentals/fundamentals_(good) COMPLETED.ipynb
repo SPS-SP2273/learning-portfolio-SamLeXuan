{
 "cells": [
  {
   "attachments": {},
   "cell_type": "markdown",
   "id": "123456",
   "metadata": {},
   "source": [
    "<div style=\"text-align:left;font-size:2em\"><span style=\"font-weight:bolder;font-size:1.25em\">SP2273 | Learning Portfolio</span><br><br><span style=\"font-weight:bold;color:darkred\">Fundamentals (Good)</span></div>"
   ]
  },
  {
   "attachments": {},
   "cell_type": "markdown",
   "id": "c1a70ab0",
   "metadata": {},
   "source": [
    "# What to expect in this chapter"
   ]
  },
  {
   "attachments": {},
   "cell_type": "markdown",
   "id": "8c44d384",
   "metadata": {},
   "source": [
    "# 1 There is more to if"
   ]
  },
  {
   "cell_type": "code",
   "execution_count": 1,
   "id": "720bc989-0fb1-44f6-ac3c-19715c58e4bf",
   "metadata": {},
   "outputs": [
    {
     "name": "stdout",
     "output_type": "stream",
     "text": [
      "Hello Batman!\n"
     ]
    }
   ],
   "source": [
    "name = 'Batman'\n",
    "\n",
    "if name == 'Batman':\n",
    "    print('Hello Batman!')\n",
    "elif name == 'Robin': # use elif if it's not the last conditional statement\n",
    "    print('Hello Sidekick!')\n",
    "else: # else for last other conditional statement unaccounted for\n",
    "    print('Hello World!')"
   ]
  },
  {
   "attachments": {},
   "cell_type": "markdown",
   "id": "eb19294a",
   "metadata": {},
   "source": [
    "# 2 Asking questions"
   ]
  },
  {
   "cell_type": "code",
   "execution_count": 2,
   "id": "b804d105-2db2-468c-80b4-e2333d4ab1ab",
   "metadata": {},
   "outputs": [
    {
     "data": {
      "text/plain": [
       "True"
      ]
     },
     "execution_count": 2,
     "metadata": {},
     "output_type": "execute_result"
    }
   ],
   "source": [
    "fruits = ['apple', 'banana', 'pineapple', 'jackfruit']\n",
    "vegetables = ['celery', 'potato', 'broccoli', 'kale']\n",
    "'apple' in fruits\n",
    "#\"not\" \"in\" \"and\" \"or\" can be used to ask true or false questions\n",
    "# can be used to count specific element types (count true)"
   ]
  },
  {
   "attachments": {},
   "cell_type": "markdown",
   "id": "109b951a",
   "metadata": {},
   "source": [
    "# 3 Remember"
   ]
  },
  {
   "attachments": {},
   "cell_type": "markdown",
   "id": "d455704f",
   "metadata": {},
   "source": [
    "## 3.1 Asking Math questions"
   ]
  },
  {
   "cell_type": "code",
   "execution_count": null,
   "id": "917675a1-dacf-40c7-93bd-9cabb1f92334",
   "metadata": {},
   "outputs": [],
   "source": [
    "# Equals?\t=\t==\n",
    "# Not equal?\t≠\t!=\n",
    "# Less than?\t<\t<\n",
    "# Greater than?\t>\t>\n",
    "# Less than or equal?\t≤\t<=\n",
    "# Greater than or equal?\t≥\t>=\n",
    "\n",
    "#following normal mathematical equations"
   ]
  },
  {
   "attachments": {},
   "cell_type": "markdown",
   "id": "15db159c",
   "metadata": {},
   "source": [
    "# 4 Python stores information in different formats or types"
   ]
  },
  {
   "cell_type": "code",
   "execution_count": 2,
   "id": "46439c86-9da9-4a6d-a3c1-0ca272d726c0",
   "metadata": {},
   "outputs": [
    {
     "name": "stdout",
     "output_type": "stream",
     "text": [
      "1 <class 'int'>\n"
     ]
    }
   ],
   "source": [
    "x = int(1.234) # can substitute int as str,float,complex (different ways to express)\n",
    "print(x, type(x))\n",
    "#complex includes an imaginary part of a number\n",
    "# these can be used to convert a certain term to a different type \n",
    "# floar allows for decimal places to be present, int doesn't"
   ]
  },
  {
   "attachments": {},
   "cell_type": "markdown",
   "id": "0f71f89a",
   "metadata": {},
   "source": [
    "# 5 Never compare floats directly"
   ]
  },
  {
   "attachments": {},
   "cell_type": "markdown",
   "id": "0ee3bd0c",
   "metadata": {},
   "source": [
    "## 5.1 The Problem"
   ]
  },
  {
   "cell_type": "code",
   "execution_count": 8,
   "id": "b47a03d1-1ee1-4960-a2d3-b28aea05b97e",
   "metadata": {},
   "outputs": [
    {
     "data": {
      "text/plain": [
       "'0.29999999999999999'"
      ]
     },
     "execution_count": 8,
     "metadata": {},
     "output_type": "execute_result"
    }
   ],
   "source": [
    "# roundoff errors form\n",
    "a = 0.1\n",
    "a3 = 0.3\n",
    "\n",
    "a * 3 == a3 #false\n",
    "\n",
    "f'{0.3:.17f}' #actuality on how 0.3(a3) looks like. simply multiplying 0.1 to 3 doesn't equate to this"
   ]
  },
  {
   "attachments": {},
   "cell_type": "markdown",
   "id": "4dbf2856",
   "metadata": {},
   "source": [
    "## 5.2 A solution"
   ]
  },
  {
   "cell_type": "code",
   "execution_count": 11,
   "id": "86e3563f-f353-4b6e-9b30-b766b2f8bc5b",
   "metadata": {},
   "outputs": [
    {
     "data": {
      "text/plain": [
       "True"
      ]
     },
     "execution_count": 11,
     "metadata": {},
     "output_type": "execute_result"
    }
   ],
   "source": [
    "eps = 1E-10 \n",
    "#eps is a small value used in numerical computations to represent a very small number close to zero.\n",
    "abs(a * 3 - a3) < eps \n",
    "#abs is like modulus of the remainder derived from above equation\n",
    "\n",
    "#this checks whether the different between a* 3 and a3 is close enough to 0 to be considered the same/very very similar\n"
   ]
  },
  {
   "cell_type": "code",
   "execution_count": 13,
   "id": "76015dd5-8243-4e29-a6d8-a909420da64e",
   "metadata": {},
   "outputs": [
    {
     "data": {
      "text/plain": [
       "True"
      ]
     },
     "execution_count": 13,
     "metadata": {},
     "output_type": "execute_result"
    }
   ],
   "source": [
    "# use numpy also can :D\n",
    "import numpy as np\n",
    "np.isclose(a * 3, a3)"
   ]
  },
  {
   "attachments": {},
   "cell_type": "markdown",
   "id": "bb188e81",
   "metadata": {},
   "source": [
    "# 6 Combining English and variables"
   ]
  },
  {
   "cell_type": "code",
   "execution_count": 15,
   "id": "ea366097-45cd-4c6d-abda-fab1ed969b41",
   "metadata": {},
   "outputs": [
    {
     "name": "stdout",
     "output_type": "stream",
     "text": [
      "Hello Batman!\n",
      "Hello BATMAN!\n",
      "The value of 10 squared is 100!\n"
     ]
    }
   ],
   "source": [
    "name = \"Batman\"\n",
    "print(f\"Hello {name}!\")\n",
    "print(f\"Hello {name.upper()}!\")\n",
    "\n",
    "x = 10\n",
    "print(f\"The value of {x} squared is {x**2}!\")\n",
    "#fstring can be used to incorportate values, variables and strings altogether\n",
    "# can simply use {} to separate these values and variables from english words"
   ]
  },
  {
   "cell_type": "code",
   "execution_count": 18,
   "id": "c6ef1e46-97a6-4590-b07e-d8682c28051d",
   "metadata": {},
   "outputs": [
    {
     "data": {
      "text/plain": [
       "'10.000000'"
      ]
     },
     "execution_count": 18,
     "metadata": {},
     "output_type": "execute_result"
    }
   ],
   "source": [
    "f'{10:.6f}' #6dp"
   ]
  },
  {
   "attachments": {},
   "cell_type": "markdown",
   "id": "6c0b3bcb",
   "metadata": {},
   "source": [
    "## 6.1 Structure of f-strings"
   ]
  },
  {
   "cell_type": "code",
   "execution_count": 19,
   "id": "0596021f-0762-45ed-b819-96dafb91e2b0",
   "metadata": {},
   "outputs": [],
   "source": [
    "# X\tVariable to format\tCan be a number or a string\n",
    "# >\tAlignment\t\n",
    "# < (Left justified)\n",
    "# > (Right justified)\n",
    "# ^ (Centre justified)\n",
    "# 0\tUse 0’s to pad the spaces\tYou can use other characters like a space .\n",
    "# Y\tTotal number of characters\t\n",
    "# Z\tNumber of decimal places\t\n",
    "# W\tSpecifies the type of variable.\t\n",
    "# f (float)\n",
    "# d (integer)\n",
    "# s (string)\n",
    "# g (Asks Python to figure out)\n",
    "\n",
    "# f string format : {X:>0Y.ZW}"
   ]
  },
  {
   "attachments": {},
   "cell_type": "markdown",
   "id": "3e1f6602",
   "metadata": {},
   "source": [
    "# 7 Escape sequences"
   ]
  },
  {
   "cell_type": "code",
   "execution_count": 22,
   "id": "f5d4e4d1-51e3-4bdf-af77-d25c045a9302",
   "metadata": {},
   "outputs": [
    {
     "name": "stdout",
     "output_type": "stream",
     "text": [
      "line1\n",
      "\tline2\n",
      "\t\tline3\n"
     ]
    }
   ],
   "source": [
    "# \\’\tSingle quote\n",
    "# \\\\\tBackslash\n",
    "# \\n\tNewline\n",
    "# \\t\tHorizontal Tab\n",
    "\n",
    "# used to formate codes in cells\n",
    "#eg. \n",
    "print(\"line1\\n\\tline2\\n\\t\\tline3\") \n",
    "#need to remember to add open inverted commas as the \"lines\" are still strings"
   ]
  },
  {
   "cell_type": "code",
   "execution_count": 23,
   "id": "b330e8e0-3982-4a17-aeca-1dddd067d49b",
   "metadata": {},
   "outputs": [
    {
     "name": "stdout",
     "output_type": "stream",
     "text": [
      "You're twenty years old.\n",
      "A\\B\\C\n",
      "A\n",
      "B\n",
      "C\n",
      "A\tB\tC\n"
     ]
    }
   ],
   "source": [
    "print('You\\'re twenty years old.')\n",
    "print('A\\\\B\\\\C')\n",
    "print('A\\nB\\nC')\n",
    "print('A\\tB\\tC')"
   ]
  },
  {
   "attachments": {},
   "cell_type": "markdown",
   "id": "e498d4fe",
   "metadata": {},
   "source": [
    "# 8 Computers read = from Right to Left!"
   ]
  },
  {
   "cell_type": "code",
   "execution_count": 24,
   "id": "fb6428e2-5500-4cbc-be63-242c9e8bc91a",
   "metadata": {},
   "outputs": [
    {
     "name": "stdout",
     "output_type": "stream",
     "text": [
      "42\n"
     ]
    }
   ],
   "source": [
    "y = 40\n",
    "y = y + 2 #read as y+2 = new y\n",
    "print(y) "
   ]
  },
  {
   "cell_type": "code",
   "execution_count": 26,
   "id": "856ff76f-c7be-4bfa-a06e-1b7396265e73",
   "metadata": {},
   "outputs": [
    {
     "name": "stdout",
     "output_type": "stream",
     "text": [
      "10\n",
      "10\n"
     ]
    }
   ],
   "source": [
    "x = y = 10\n",
    "print(y)\n",
    "print(x)"
   ]
  },
  {
   "attachments": {},
   "cell_type": "markdown",
   "id": "190227e1",
   "metadata": {},
   "source": [
    "# 9 Shorter and Cleaner Code"
   ]
  },
  {
   "cell_type": "code",
   "execution_count": 27,
   "id": "35dd5c8d-af81-48e2-96d4-9256903993df",
   "metadata": {},
   "outputs": [
    {
     "data": {
      "text/plain": [
       "42"
      ]
     },
     "execution_count": 27,
     "metadata": {},
     "output_type": "execute_result"
    }
   ],
   "source": [
    "y = 40\n",
    "y = y + 2\n",
    "y\n",
    "y = 40\n",
    "y += 2    # Same as y = y + 2\n",
    "y"
   ]
  },
  {
   "cell_type": "markdown",
   "id": "dc53a02f-02b4-473b-bc05-2f08ac6258d1",
   "metadata": {},
   "source": [
    "Addition\t    y = y+2\t  y += 2\n",
    "Subtraction\t    y = y-2\t  y -= 2\n",
    "Multiplication\ty = y*2\t  y *= 2\n",
    "Division\t    y = y/2\t  y /= 2"
   ]
  },
  {
   "attachments": {},
   "cell_type": "markdown",
   "id": "0aaf36ab",
   "metadata": {},
   "source": [
    "# 10 Python can be a prima-donna."
   ]
  },
  {
   "cell_type": "code",
   "execution_count": 29,
   "id": "a02b8414-229d-4081-b917-c92dbe8f9ebd",
   "metadata": {},
   "outputs": [],
   "source": [
    "# go practice debugging"
   ]
  },
  {
   "attachments": {},
   "cell_type": "markdown",
   "id": "2823e127",
   "metadata": {},
   "source": [
    "# 11 Best Practices for Scientific Computing"
   ]
  },
  {
   "attachments": {},
   "cell_type": "markdown",
   "id": "e8dbe91c",
   "metadata": {},
   "source": [
    "# 12 Looking for help"
   ]
  },
  {
   "attachments": {},
   "cell_type": "markdown",
   "id": "dd86a270",
   "metadata": {},
   "source": [
    "## References"
   ]
  },
  {
   "attachments": {},
   "cell_type": "markdown",
   "id": "c05dedc4",
   "metadata": {},
   "source": [
    "## Footnotes"
   ]
  }
 ],
 "metadata": {
  "kernelspec": {
   "display_name": "Python 3 (ipykernel)",
   "language": "python",
   "name": "python3"
  },
  "language_info": {
   "codemirror_mode": {
    "name": "ipython",
    "version": 3
   },
   "file_extension": ".py",
   "mimetype": "text/x-python",
   "name": "python",
   "nbconvert_exporter": "python",
   "pygments_lexer": "ipython3",
   "version": "3.11.5"
  },
  "toc": {
   "base_numbering": 1,
   "nav_menu": {},
   "number_sections": true,
   "sideBar": true,
   "skip_h1_title": false,
   "title_cell": "Table of Contents",
   "title_sidebar": "Contents",
   "toc_cell": false,
   "toc_position": {},
   "toc_section_display": true,
   "toc_window_display": false
  },
  "vscode": {
   "interpreter": {
    "hash": "31f2aee4e71d21fbe5cf8b01ff0e069b9275f58929596ceb00d14d90e3e16cd6"
   }
  }
 },
 "nbformat": 4,
 "nbformat_minor": 5
}
