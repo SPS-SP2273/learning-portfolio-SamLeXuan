{
 "cells": [
  {
   "attachments": {},
   "cell_type": "markdown",
   "id": "123456",
   "metadata": {},
   "source": [
    "<div style=\"text-align:left;font-size:2em\"><span style=\"font-weight:bolder;font-size:1.25em\">SP2273 | Learning Portfolio</span><br><br><span style=\"font-weight:bold;color:darkred\">Fundamentals (Need)</span></div>"
   ]
  },
  {
   "attachments": {},
   "cell_type": "markdown",
   "id": "07bb10a7",
   "metadata": {},
   "source": [
    "# What to expect in this chapter"
   ]
  },
  {
   "attachments": {},
   "cell_type": "markdown",
   "id": "e516e9d6",
   "metadata": {},
   "source": [
    "# 1 Functions"
   ]
  },
  {
   "cell_type": "code",
   "execution_count": 2,
   "id": "57013d0f-311e-45ac-93b7-641924fb2798",
   "metadata": {},
   "outputs": [
    {
     "name": "stdout",
     "output_type": "stream",
     "text": [
      "Hello World\n"
     ]
    }
   ],
   "source": [
    "print('Hello World')"
   ]
  },
  {
   "cell_type": "code",
   "execution_count": null,
   "id": "54894911-7a42-4dc0-8622-4134b2ef262b",
   "metadata": {},
   "outputs": [],
   "source": [
    "# print() is a function,, parentheses are left empty for functions not requiring an argument"
   ]
  },
  {
   "attachments": {},
   "cell_type": "markdown",
   "id": "230b7a66",
   "metadata": {},
   "source": [
    "# 2 Remember"
   ]
  },
  {
   "cell_type": "code",
   "execution_count": null,
   "id": "49bd86f1-b60a-4836-bed9-c18bddcd00eb",
   "metadata": {},
   "outputs": [],
   "source": [
    "# A function is ‘something’ that executes a specific task.\n",
    "# A function may or may not accept arguments.\n",
    "# We can define our own functions."
   ]
  },
  {
   "attachments": {},
   "cell_type": "markdown",
   "id": "3b2769a2",
   "metadata": {},
   "source": [
    "# 3 Python is interpreted"
   ]
  },
  {
   "cell_type": "code",
   "execution_count": 3,
   "id": "accff6e0-1e60-444a-8aac-30086dca00ee",
   "metadata": {},
   "outputs": [
    {
     "name": "stdout",
     "output_type": "stream",
     "text": [
      "Hello World\n"
     ]
    }
   ],
   "source": [
    "print('Hello World') #brackets are methods"
   ]
  },
  {
   "cell_type": "code",
   "execution_count": null,
   "id": "cd272d84-b4d5-419f-ad02-1cb7b73aa959",
   "metadata": {},
   "outputs": [],
   "source": [
    "# interpreter works sequentially, one command at a time --> one line of code is one action"
   ]
  },
  {
   "cell_type": "code",
   "execution_count": 4,
   "id": "bc67306e-679b-441a-b35a-e20eb70e6d0d",
   "metadata": {},
   "outputs": [
    {
     "name": "stdout",
     "output_type": "stream",
     "text": [
      "Hello World again\n"
     ]
    }
   ],
   "source": [
    "print('Hello World again')"
   ]
  },
  {
   "attachments": {},
   "cell_type": "markdown",
   "id": "3afd59ce",
   "metadata": {},
   "source": [
    "# 4 Python is sensitive."
   ]
  },
  {
   "cell_type": "code",
   "execution_count": 5,
   "id": "44a94e38-dd53-470b-831d-356878219d19",
   "metadata": {},
   "outputs": [
    {
     "name": "stdout",
     "output_type": "stream",
     "text": [
      "Hello world!\n"
     ]
    }
   ],
   "source": [
    "print('Hello world!')"
   ]
  },
  {
   "cell_type": "code",
   "execution_count": 7,
   "id": "4c9f22c3-1bb7-470e-9919-b0db3734e13c",
   "metadata": {},
   "outputs": [
    {
     "ename": "NameError",
     "evalue": "name 'Print' is not defined",
     "output_type": "error",
     "traceback": [
      "\u001b[1;31m---------------------------------------------------------------------------\u001b[0m",
      "\u001b[1;31mNameError\u001b[0m                                 Traceback (most recent call last)",
      "Cell \u001b[1;32mIn[7], line 1\u001b[0m\n\u001b[1;32m----> 1\u001b[0m Print(\u001b[38;5;124m'\u001b[39m\u001b[38;5;124mHello world!\u001b[39m\u001b[38;5;124m'\u001b[39m)\n",
      "\u001b[1;31mNameError\u001b[0m: name 'Print' is not defined"
     ]
    }
   ],
   "source": [
    "Print('Hello world!')"
   ]
  },
  {
   "attachments": {},
   "cell_type": "markdown",
   "id": "da8fd755",
   "metadata": {},
   "source": [
    "# 5 Remember"
   ]
  },
  {
   "cell_type": "code",
   "execution_count": null,
   "id": "16dcb199-174b-4571-84b2-25bdb6653d42",
   "metadata": {},
   "outputs": [],
   "source": [
    "# python is case sensitive"
   ]
  },
  {
   "attachments": {},
   "cell_type": "markdown",
   "id": "93654508",
   "metadata": {},
   "source": [
    "# 6 Comments"
   ]
  },
  {
   "cell_type": "code",
   "execution_count": 10,
   "id": "57335a27-d17e-4182-b4de-21190f5e51cd",
   "metadata": {},
   "outputs": [
    {
     "name": "stdout",
     "output_type": "stream",
     "text": [
      "one\n"
     ]
    }
   ],
   "source": [
    "# This is a comment\n",
    "print('one')"
   ]
  },
  {
   "cell_type": "code",
   "execution_count": 11,
   "id": "93636f09-b63e-4a5d-8e5e-4012c698c4dd",
   "metadata": {},
   "outputs": [
    {
     "name": "stdout",
     "output_type": "stream",
     "text": [
      "one\n"
     ]
    }
   ],
   "source": [
    "print('one') #This is a comment"
   ]
  },
  {
   "attachments": {},
   "cell_type": "markdown",
   "id": "0b28b751",
   "metadata": {},
   "source": [
    "# 7 Remember"
   ]
  },
  {
   "cell_type": "code",
   "execution_count": 13,
   "id": "94cc4adf-3519-43a1-847d-2c032a76bdcf",
   "metadata": {},
   "outputs": [],
   "source": [
    "# Use comments to emphasize the purpose of the code.\n",
    "# Anything between end of line and '#' is a comment"
   ]
  },
  {
   "attachments": {},
   "cell_type": "markdown",
   "id": "91127f37",
   "metadata": {},
   "source": [
    "# 8 = is not the same as =="
   ]
  },
  {
   "cell_type": "code",
   "execution_count": 19,
   "id": "92c104fc-db7f-4e7e-9aff-c7bb8c2235ef",
   "metadata": {},
   "outputs": [],
   "source": [
    "name = 'Batman' #set name to carry batman, making them equal"
   ]
  },
  {
   "cell_type": "code",
   "execution_count": 23,
   "id": "9c7d47ca-5a5d-4fa8-b24b-a6e1cb243dfa",
   "metadata": {},
   "outputs": [
    {
     "data": {
      "text/plain": [
       "True"
      ]
     },
     "execution_count": 23,
     "metadata": {},
     "output_type": "execute_result"
    }
   ],
   "source": [
    "name == 'Batman'"
   ]
  },
  {
   "cell_type": "code",
   "execution_count": 26,
   "id": "55b077b0-695e-4674-aed9-243b5a76c402",
   "metadata": {},
   "outputs": [
    {
     "ename": "NameError",
     "evalue": "name 'Batman' is not defined",
     "output_type": "error",
     "traceback": [
      "\u001b[1;31m---------------------------------------------------------------------------\u001b[0m",
      "\u001b[1;31mNameError\u001b[0m                                 Traceback (most recent call last)",
      "Cell \u001b[1;32mIn[26], line 1\u001b[0m\n\u001b[1;32m----> 1\u001b[0m Batman \u001b[38;5;241m==\u001b[39m \u001b[38;5;124m'\u001b[39m\u001b[38;5;124mname\u001b[39m\u001b[38;5;124m'\u001b[39m\n",
      "\u001b[1;31mNameError\u001b[0m: name 'Batman' is not defined"
     ]
    }
   ],
   "source": [
    "Batman == 'name' # it's the whole thing on the other side that ends up being equal"
   ]
  },
  {
   "cell_type": "code",
   "execution_count": 29,
   "id": "2b57beb5-a6cb-4978-9581-48e5d7715f72",
   "metadata": {},
   "outputs": [
    {
     "ename": "NameError",
     "evalue": "name 'Batman' is not defined",
     "output_type": "error",
     "traceback": [
      "\u001b[1;31m---------------------------------------------------------------------------\u001b[0m",
      "\u001b[1;31mNameError\u001b[0m                                 Traceback (most recent call last)",
      "Cell \u001b[1;32mIn[29], line 1\u001b[0m\n\u001b[1;32m----> 1\u001b[0m name \u001b[38;5;241m==\u001b[39m Batman\n",
      "\u001b[1;31mNameError\u001b[0m: name 'Batman' is not defined"
     ]
    }
   ],
   "source": [
    "name == Batman"
   ]
  },
  {
   "cell_type": "code",
   "execution_count": 31,
   "id": "51ed33e9-cc22-4e98-9ebd-586e14767aa6",
   "metadata": {},
   "outputs": [
    {
     "ename": "NameError",
     "evalue": "name 'Batman' is not defined",
     "output_type": "error",
     "traceback": [
      "\u001b[1;31m---------------------------------------------------------------------------\u001b[0m",
      "\u001b[1;31mNameError\u001b[0m                                 Traceback (most recent call last)",
      "Cell \u001b[1;32mIn[31], line 1\u001b[0m\n\u001b[1;32m----> 1\u001b[0m name \u001b[38;5;241m=\u001b[39m Batman\n",
      "\u001b[1;31mNameError\u001b[0m: name 'Batman' is not defined"
     ]
    }
   ],
   "source": [
    "name = Batman #need the inverted commas"
   ]
  },
  {
   "cell_type": "code",
   "execution_count": null,
   "id": "fc6ab0e9-e962-4298-9181-2a7e2cf5f2e7",
   "metadata": {},
   "outputs": [],
   "source": []
  },
  {
   "attachments": {},
   "cell_type": "markdown",
   "id": "49b6a72d",
   "metadata": {},
   "source": [
    "# 9 Remember"
   ]
  },
  {
   "cell_type": "code",
   "execution_count": null,
   "id": "a05ef9fe-e792-40fa-9546-1f08f778bed1",
   "metadata": {},
   "outputs": [],
   "source": [
    "# = is not the same as ==.\n",
    "# = assigns a value and\n",
    "# == asks a question."
   ]
  },
  {
   "attachments": {},
   "cell_type": "markdown",
   "id": "32d0020e",
   "metadata": {},
   "source": [
    "# 10 Use if to make decisions"
   ]
  },
  {
   "cell_type": "code",
   "execution_count": 28,
   "id": "75bdf98c-fb4d-4797-be6e-18985c9ec3ff",
   "metadata": {},
   "outputs": [],
   "source": [
    "name = 'Banana'"
   ]
  },
  {
   "cell_type": "code",
   "execution_count": 35,
   "id": "5f40a3cc-89f2-46de-9ee4-cdf5a1aedb18",
   "metadata": {},
   "outputs": [
    {
     "name": "stdout",
     "output_type": "stream",
     "text": [
      "Hello Banana!\n"
     ]
    }
   ],
   "source": [
    "if name == 'Banana':\n",
    "    print('Hello Banana!')\n",
    "else:\n",
    "    print('Hello World!')"
   ]
  },
  {
   "cell_type": "code",
   "execution_count": 37,
   "id": "0533ce92-3f5a-43e8-8c74-1f10aedcd6f6",
   "metadata": {},
   "outputs": [],
   "source": [
    "# if some_condition:\n",
    "      # print(\"Condition is true\")\n",
    "# else:\n",
    "      #  print(\"Condition is false\")"
   ]
  },
  {
   "attachments": {},
   "cell_type": "markdown",
   "id": "5c882b7c",
   "metadata": {},
   "source": [
    "# 11 Remember"
   ]
  },
  {
   "cell_type": "code",
   "execution_count": 36,
   "id": "6f1ecdda-40be-4e9e-b138-8653fdb8384a",
   "metadata": {},
   "outputs": [],
   "source": [
    "# 'if' is used to make decisions based on 'true' or 'false' condition"
   ]
  },
  {
   "attachments": {},
   "cell_type": "markdown",
   "id": "bb25c4c1",
   "metadata": {},
   "source": [
    "# 12 Indentations (spaces) are sooo IMPORTANT!"
   ]
  },
  {
   "cell_type": "code",
   "execution_count": 39,
   "id": "ef1637fb-692c-4efd-8c29-008fa4c3658e",
   "metadata": {},
   "outputs": [
    {
     "name": "stdout",
     "output_type": "stream",
     "text": [
      "10\n"
     ]
    }
   ],
   "source": [
    "x = 10\n",
    "print(x)"
   ]
  },
  {
   "cell_type": "code",
   "execution_count": 41,
   "id": "d5a79ce2-a063-48af-b20f-5c1cc652a908",
   "metadata": {},
   "outputs": [
    {
     "ename": "IndentationError",
     "evalue": "unexpected indent (2703623731.py, line 2)",
     "output_type": "error",
     "traceback": [
      "\u001b[1;36m  Cell \u001b[1;32mIn[41], line 2\u001b[1;36m\u001b[0m\n\u001b[1;33m    print(x)\u001b[0m\n\u001b[1;37m    ^\u001b[0m\n\u001b[1;31mIndentationError\u001b[0m\u001b[1;31m:\u001b[0m unexpected indent\n"
     ]
    }
   ],
   "source": [
    "x = 10\n",
    "    print(x)"
   ]
  },
  {
   "cell_type": "code",
   "execution_count": 46,
   "id": "11007bbd-ee49-40fc-9816-096469e0464d",
   "metadata": {},
   "outputs": [],
   "source": [
    "# just use tab key all the time, make it consistent"
   ]
  },
  {
   "attachments": {},
   "cell_type": "markdown",
   "id": "142e4240",
   "metadata": {},
   "source": [
    "# 13 Remember"
   ]
  },
  {
   "cell_type": "code",
   "execution_count": 44,
   "id": "7c700ea6-52a3-4c29-8012-21194668d3ff",
   "metadata": {},
   "outputs": [],
   "source": [
    "# Indentations play a crucial role in Python; do not use them indiscriminately.\n",
    "# : is used to designate a block of code."
   ]
  },
  {
   "cell_type": "code",
   "execution_count": 47,
   "id": "9e9485ce-1fea-4ae6-8928-059ea87e235a",
   "metadata": {},
   "outputs": [],
   "source": [
    "# spaces separate variables from operations in expressions\n",
    "# tabs separate code blocks"
   ]
  },
  {
   "attachments": {},
   "cell_type": "markdown",
   "id": "fd0d0444",
   "metadata": {},
   "source": [
    "# 14 ‘age’ is English, age is a variable."
   ]
  },
  {
   "cell_type": "code",
   "execution_count": 48,
   "id": "73a65156-8a1f-415e-b21f-f434635ab68e",
   "metadata": {},
   "outputs": [
    {
     "name": "stdout",
     "output_type": "stream",
     "text": [
      "10\n"
     ]
    }
   ],
   "source": [
    "age = 10\n",
    "print(age)"
   ]
  },
  {
   "cell_type": "code",
   "execution_count": 56,
   "id": "b7217abe-ee06-4aa5-be35-196dadcd6947",
   "metadata": {},
   "outputs": [
    {
     "name": "stdout",
     "output_type": "stream",
     "text": [
      "age\n"
     ]
    }
   ],
   "source": [
    "name = 'age' # Name is the varaible, the word 'age' is the value\n",
    "print(name)  # without inverted commas, variable is printed"
   ]
  },
  {
   "cell_type": "code",
   "execution_count": 55,
   "id": "dfe8716a-71c5-4b6f-8581-1e07e2d101c3",
   "metadata": {},
   "outputs": [
    {
     "name": "stdout",
     "output_type": "stream",
     "text": [
      "name\n"
     ]
    }
   ],
   "source": [
    "print(\"name\") # with inverted commas the english word is printed"
   ]
  },
  {
   "cell_type": "code",
   "execution_count": 59,
   "id": "b379495d-2282-47c8-9878-a8a946647d9f",
   "metadata": {},
   "outputs": [
    {
     "name": "stdout",
     "output_type": "stream",
     "text": [
      "You're twenty years old.\n"
     ]
    }
   ],
   "source": [
    "print(\"You're twenty years old.\") # Be consistent! inside have ' alr"
   ]
  },
  {
   "attachments": {},
   "cell_type": "markdown",
   "id": "e75c1273",
   "metadata": {},
   "source": [
    "# 15 Brackets"
   ]
  },
  {
   "cell_type": "code",
   "execution_count": 61,
   "id": "58ac50d5-c94c-45e9-9803-71685618fe6a",
   "metadata": {},
   "outputs": [
    {
     "name": "stdout",
     "output_type": "stream",
     "text": [
      "Hello!\n"
     ]
    }
   ],
   "source": [
    "print ('Hello!') # () is used for functions"
   ]
  },
  {
   "cell_type": "code",
   "execution_count": 63,
   "id": "c3cb36b8-5f8f-4102-a9c9-9f6a30ea63ed",
   "metadata": {},
   "outputs": [
    {
     "data": {
      "text/plain": [
       "15"
      ]
     },
     "execution_count": 63,
     "metadata": {},
     "output_type": "execute_result"
    }
   ],
   "source": [
    "(1 + 2) * 5 # () for math"
   ]
  },
  {
   "cell_type": "code",
   "execution_count": 69,
   "id": "83496b79-eb64-4ec9-adba-d14f9c00d063",
   "metadata": {},
   "outputs": [
    {
     "name": "stdout",
     "output_type": "stream",
     "text": [
      "[1, 2, 3, 4, 5]\n"
     ]
    }
   ],
   "source": [
    "list_1 = [1, 2, 3, 4, 5] # [] is used for lists\n",
    "print(list_1)            # A 1D list"
   ]
  },
  {
   "cell_type": "code",
   "execution_count": 77,
   "id": "9d9240ac-c691-4322-a6b2-d93aeef6b004",
   "metadata": {},
   "outputs": [
    {
     "name": "stdout",
     "output_type": "stream",
     "text": [
      "[[1, 'A'], [2, 'B'], [3, 'C']]\n"
     ]
    }
   ],
   "source": [
    "list_2 = [\n",
    "    [1, \"A\"],\n",
    "    [2, \"B\"], #A 2D list\n",
    "    [3, \"C\"]\n",
    "]\n",
    "print(list_2)"
   ]
  },
  {
   "cell_type": "code",
   "execution_count": 78,
   "id": "ab2c1ae0-876f-49e9-9c5b-bf91844d445f",
   "metadata": {},
   "outputs": [],
   "source": [
    "# {} is used to store data in dictionary"
   ]
  },
  {
   "cell_type": "code",
   "execution_count": 81,
   "id": "48384eba-289b-4c03-9845-0994bbb3b957",
   "metadata": {},
   "outputs": [],
   "source": [
    "personal_info = { # storing in dictionary\n",
    "    'Names': 'Batman', # in dictionary, give words value in words, use colon\n",
    "    'Real Name': 'Bruce Wayne',\n",
    "    'Age': 55,\n",
    "    'Affiliation': 'Justice League',\n",
    "    'Universe': 'DC'\n",
    "}"
   ]
  },
  {
   "cell_type": "code",
   "execution_count": 84,
   "id": "6ac256fa-45af-450a-8000-290f8240ac7e",
   "metadata": {},
   "outputs": [
    {
     "name": "stdout",
     "output_type": "stream",
     "text": [
      "Bruce Wayne\n"
     ]
    }
   ],
   "source": [
    "print(personal_info['Real Name']) # function, dictionary + which part you want to bring out from list"
   ]
  },
  {
   "attachments": {},
   "cell_type": "markdown",
   "id": "ba06dd80",
   "metadata": {},
   "source": [
    "# 16 Giving Python superpowers with Packages"
   ]
  },
  {
   "attachments": {},
   "cell_type": "markdown",
   "id": "6c851776",
   "metadata": {},
   "source": [
    "## 16.1 Some Context"
   ]
  },
  {
   "cell_type": "code",
   "execution_count": 92,
   "id": "7643fa98-2cdd-4043-aa9d-21a4f2849789",
   "metadata": {},
   "outputs": [
    {
     "data": {
      "text/plain": [
       "40.5"
      ]
     },
     "execution_count": 92,
     "metadata": {},
     "output_type": "execute_result"
    }
   ],
   "source": [
    "1 * ((2 - 3) + 4) ** 5 / 6"
   ]
  },
  {
   "cell_type": "code",
   "execution_count": 93,
   "id": "9cb6ff37-6583-46ce-8918-9ac1168c6f2c",
   "metadata": {},
   "outputs": [
    {
     "ename": "TypeError",
     "evalue": "'str' object is not callable",
     "output_type": "error",
     "traceback": [
      "\u001b[1;31m---------------------------------------------------------------------------\u001b[0m",
      "\u001b[1;31mTypeError\u001b[0m                                 Traceback (most recent call last)",
      "Cell \u001b[1;32mIn[93], line 1\u001b[0m\n\u001b[1;32m----> 1\u001b[0m sqrt(\u001b[38;5;241m4\u001b[39m)\n",
      "\u001b[1;31mTypeError\u001b[0m: 'str' object is not callable"
     ]
    }
   ],
   "source": [
    "sqrt(4) #sqrt is seen as a specific type of function but it isn't defined"
   ]
  },
  {
   "cell_type": "code",
   "execution_count": 97,
   "id": "d9c38230-0412-4735-b96d-ad67e3a1a6ab",
   "metadata": {},
   "outputs": [
    {
     "data": {
      "text/plain": [
       "2.0"
      ]
     },
     "execution_count": 97,
     "metadata": {},
     "output_type": "execute_result"
    }
   ],
   "source": [
    "math.sqrt(4)"
   ]
  },
  {
   "attachments": {},
   "cell_type": "markdown",
   "id": "ab9ee8e9",
   "metadata": {},
   "source": [
    "## 16.2 Importing the math package"
   ]
  },
  {
   "cell_type": "code",
   "execution_count": 95,
   "id": "c7fa049d-d4ed-4eb3-9ed4-ede8fb27789a",
   "metadata": {},
   "outputs": [],
   "source": [
    "import math #importing function of the 'math' package"
   ]
  },
  {
   "cell_type": "code",
   "execution_count": 96,
   "id": "d037f1e8-5e2b-4ea0-ae1f-587cc2f8c3db",
   "metadata": {},
   "outputs": [
    {
     "data": {
      "text/plain": [
       "2.0"
      ]
     },
     "execution_count": 96,
     "metadata": {},
     "output_type": "execute_result"
    }
   ],
   "source": [
    "math.sqrt(4)"
   ]
  },
  {
   "attachments": {},
   "cell_type": "markdown",
   "id": "7689a101",
   "metadata": {},
   "source": [
    "## 16.3 Importing the numpy package"
   ]
  },
  {
   "cell_type": "code",
   "execution_count": 1,
   "id": "df904310-4a71-4721-9297-454981ac8337",
   "metadata": {},
   "outputs": [],
   "source": [
    "import numpy as np"
   ]
  },
  {
   "cell_type": "code",
   "execution_count": 2,
   "id": "5e7795ca-9e13-4eaa-9b0f-8ef04403acbc",
   "metadata": {},
   "outputs": [
    {
     "data": {
      "text/plain": [
       "2.0"
      ]
     },
     "execution_count": 2,
     "metadata": {},
     "output_type": "execute_result"
    }
   ],
   "source": [
    "np.sqrt(4)"
   ]
  },
  {
   "attachments": {},
   "cell_type": "markdown",
   "id": "1715faed",
   "metadata": {},
   "source": [
    "## 16.4 Why so many packages?"
   ]
  },
  {
   "attachments": {},
   "cell_type": "markdown",
   "id": "e0227423",
   "metadata": {},
   "source": [
    "# 17 Remember"
   ]
  },
  {
   "cell_type": "code",
   "execution_count": null,
   "id": "576d049a-7eb7-4252-b325-fd1227bf569c",
   "metadata": {},
   "outputs": [],
   "source": [
    "# importing packages upgrades python's uses\n",
    "# only need to import once"
   ]
  },
  {
   "attachments": {},
   "cell_type": "markdown",
   "id": "eb0045c6",
   "metadata": {},
   "source": [
    "# 18 The dot (.)"
   ]
  },
  {
   "cell_type": "code",
   "execution_count": 104,
   "id": "d4c5c592-4a56-4963-bdf2-08c583b9931e",
   "metadata": {},
   "outputs": [
    {
     "data": {
      "text/plain": [
       "['I', 'am', 'Batman']"
      ]
     },
     "execution_count": 104,
     "metadata": {},
     "output_type": "execute_result"
    }
   ],
   "source": [
    "\"I am Batman\".split() # can split terms separated by spaces and within invert commas"
   ]
  },
  {
   "cell_type": "code",
   "execution_count": 102,
   "id": "45b556da-86f0-4b8a-a238-de55a898bc2a",
   "metadata": {},
   "outputs": [
    {
     "data": {
      "text/plain": [
       "['1', '2', '3', '4']"
      ]
     },
     "execution_count": 102,
     "metadata": {},
     "output_type": "execute_result"
    }
   ],
   "source": [
    "\"1 2 3 4\".split()"
   ]
  },
  {
   "cell_type": "code",
   "execution_count": 105,
   "id": "4de7a9e0-2989-4c61-828b-fec8ce0a9da5",
   "metadata": {},
   "outputs": [
    {
     "ename": "SyntaxError",
     "evalue": "invalid decimal literal (3782932192.py, line 1)",
     "output_type": "error",
     "traceback": [
      "\u001b[1;36m  Cell \u001b[1;32mIn[105], line 1\u001b[1;36m\u001b[0m\n\u001b[1;33m    1 2 3 4.split()\u001b[0m\n\u001b[1;37m           ^\u001b[0m\n\u001b[1;31mSyntaxError\u001b[0m\u001b[1;31m:\u001b[0m invalid decimal literal\n"
     ]
    }
   ],
   "source": [
    "1 2 3 4.split()"
   ]
  },
  {
   "cell_type": "code",
   "execution_count": 106,
   "id": "a93db42f-4fe7-4853-98e3-b605d70ab74d",
   "metadata": {},
   "outputs": [
    {
     "data": {
      "text/plain": [
       "['1234']"
      ]
     },
     "execution_count": 106,
     "metadata": {},
     "output_type": "execute_result"
    }
   ],
   "source": [
    "\"1234\".split()"
   ]
  },
  {
   "cell_type": "code",
   "execution_count": 103,
   "id": "b5e26b92-54af-4364-8558-6aa02336fbe7",
   "metadata": {},
   "outputs": [
    {
     "ename": "SyntaxError",
     "evalue": "invalid decimal literal (3897031440.py, line 1)",
     "output_type": "error",
     "traceback": [
      "\u001b[1;36m  Cell \u001b[1;32mIn[103], line 1\u001b[1;36m\u001b[0m\n\u001b[1;33m    1234.split()\u001b[0m\n\u001b[1;37m        ^\u001b[0m\n\u001b[1;31mSyntaxError\u001b[0m\u001b[1;31m:\u001b[0m invalid decimal literal\n"
     ]
    }
   ],
   "source": [
    "1234.split()"
   ]
  },
  {
   "cell_type": "code",
   "execution_count": 4,
   "id": "132ddb6b-2c14-4aa5-bc54-6eea33ed8db4",
   "metadata": {},
   "outputs": [
    {
     "data": {
      "text/plain": [
       "'APPLE'"
      ]
     },
     "execution_count": 4,
     "metadata": {},
     "output_type": "execute_result"
    }
   ],
   "source": [
    "'apple'.upper()"
   ]
  },
  {
   "cell_type": "code",
   "execution_count": 14,
   "id": "cabee9c1-16a1-4607-a29e-39a7d93ca0c0",
   "metadata": {},
   "outputs": [
    {
     "name": "stdout",
     "output_type": "stream",
     "text": [
      "1.0\n"
     ]
    }
   ],
   "source": [
    "x = 10 + 1j # adding coefficient makes it a complex equation\n",
    "print(x.imag)\n"
   ]
  },
  {
   "attachments": {},
   "cell_type": "markdown",
   "id": "75338355",
   "metadata": {},
   "source": [
    "# 19 Remember"
   ]
  },
  {
   "cell_type": "code",
   "execution_count": null,
   "id": "590f6059-2390-4373-b6ff-682de33a7c34",
   "metadata": {},
   "outputs": [],
   "source": [
    "# dot indicates ownership\n",
    "# the function after the dot indicates what happens "
   ]
  },
  {
   "attachments": {},
   "cell_type": "markdown",
   "id": "766f3144",
   "metadata": {},
   "source": [
    "## Footnotes"
   ]
  },
  {
   "cell_type": "code",
   "execution_count": 15,
   "id": "943c6b8e-bdee-43d1-a003-8f1977a71971",
   "metadata": {},
   "outputs": [
    {
     "data": {
      "text/plain": [
       "True"
      ]
     },
     "execution_count": 15,
     "metadata": {},
     "output_type": "execute_result"
    }
   ],
   "source": [
    "10>3"
   ]
  },
  {
   "cell_type": "code",
   "execution_count": 22,
   "id": "b6f55682-ce55-4857-9874-a4b4ddb41755",
   "metadata": {},
   "outputs": [
    {
     "name": "stdout",
     "output_type": "stream",
     "text": [
      "['banana', 'apple', 'orange', 'grapes']\n"
     ]
    }
   ],
   "source": [
    "fruits = [\"banana\", \"apple\", \"orange\", \"grapes\"]\n",
    "vegetables = [\"kale\", \"spinach\", \"eggplant\", \"bok_choy\"]\n",
    "print(fruits)"
   ]
  },
  {
   "cell_type": "code",
   "execution_count": null,
   "id": "2544718c-f57b-4b72-8a33-e3f2cc1176ba",
   "metadata": {},
   "outputs": [],
   "source": []
  }
 ],
 "metadata": {
  "kernelspec": {
   "display_name": "Python 3 (ipykernel)",
   "language": "python",
   "name": "python3"
  },
  "language_info": {
   "codemirror_mode": {
    "name": "ipython",
    "version": 3
   },
   "file_extension": ".py",
   "mimetype": "text/x-python",
   "name": "python",
   "nbconvert_exporter": "python",
   "pygments_lexer": "ipython3",
   "version": "3.11.5"
  },
  "toc": {
   "base_numbering": 1,
   "nav_menu": {},
   "number_sections": true,
   "sideBar": true,
   "skip_h1_title": false,
   "title_cell": "Table of Contents",
   "title_sidebar": "Contents",
   "toc_cell": false,
   "toc_position": {},
   "toc_section_display": true,
   "toc_window_display": false
  },
  "vscode": {
   "interpreter": {
    "hash": "31f2aee4e71d21fbe5cf8b01ff0e069b9275f58929596ceb00d14d90e3e16cd6"
   }
  }
 },
 "nbformat": 4,
 "nbformat_minor": 5
}
