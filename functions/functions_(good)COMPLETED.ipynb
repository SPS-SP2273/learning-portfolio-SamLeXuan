{
 "cells": [
  {
   "attachments": {},
   "cell_type": "markdown",
   "id": "123456",
   "metadata": {},
   "source": [
    "<div style=\"text-align:left;font-size:2em\"><span style=\"font-weight:bolder;font-size:1.25em\">SP2273 | Learning Portfolio</span><br><br><span style=\"font-weight:bold;color:darkred\">Functions (Good)</span></div>"
   ]
  },
  {
   "attachments": {},
   "cell_type": "markdown",
   "id": "008421e7",
   "metadata": {},
   "source": [
    "# What to expect in this chapter"
   ]
  },
  {
   "attachments": {},
   "cell_type": "markdown",
   "id": "75396e5a",
   "metadata": {},
   "source": [
    "# 1 Checks, balances, and contingencies"
   ]
  },
  {
   "attachments": {},
   "cell_type": "markdown",
   "id": "fdc6e180",
   "metadata": {},
   "source": [
    "## 1.1 assert"
   ]
  },
  {
   "cell_type": "code",
   "execution_count": 2,
   "id": "c51387e2-f157-4ccf-878f-3f590413ca32",
   "metadata": {},
   "outputs": [],
   "source": [
    "x = 10\n",
    "assert x >= 0, \"x is becoming negative!\" #assert works similar to an \"if\"\n",
    "#no error message appears"
   ]
  },
  {
   "cell_type": "code",
   "execution_count": 3,
   "id": "f19df93e-2a97-413a-9667-6629e86943a5",
   "metadata": {},
   "outputs": [
    {
     "ename": "AssertionError",
     "evalue": "x is becoming negative!",
     "output_type": "error",
     "traceback": [
      "\u001b[1;31m---------------------------------------------------------------------------\u001b[0m",
      "\u001b[1;31mAssertionError\u001b[0m                            Traceback (most recent call last)",
      "Cell \u001b[1;32mIn[3], line 2\u001b[0m\n\u001b[0;32m      1\u001b[0m x \u001b[38;5;241m=\u001b[39m \u001b[38;5;241m-\u001b[39m\u001b[38;5;241m1\u001b[39m\n\u001b[1;32m----> 2\u001b[0m \u001b[38;5;28;01massert\u001b[39;00m x \u001b[38;5;241m>\u001b[39m\u001b[38;5;241m=\u001b[39m \u001b[38;5;241m0\u001b[39m, \u001b[38;5;124m\"\u001b[39m\u001b[38;5;124mx is becoming negative!\u001b[39m\u001b[38;5;124m\"\u001b[39m\n",
      "\u001b[1;31mAssertionError\u001b[0m: x is becoming negative!"
     ]
    }
   ],
   "source": [
    "x = -1\n",
    "assert x >= 0, \"x is becoming negative!\" # AssertionError written in \"\" appears\n",
    "#can be used to check if a condition is true"
   ]
  },
  {
   "attachments": {},
   "cell_type": "markdown",
   "id": "235bffdd",
   "metadata": {},
   "source": [
    "## 1.2 try-except"
   ]
  },
  {
   "cell_type": "code",
   "execution_count": 4,
   "id": "43e6731e-6088-4d3b-8084-3e01e8e954bc",
   "metadata": {},
   "outputs": [
    {
     "name": "stdin",
     "output_type": "stream",
     "text": [
      "Give me a number and I will calculate its square. boo\n"
     ]
    },
    {
     "name": "stdout",
     "output_type": "stream",
     "text": [
      "Oh oh! I cannot square boo!\n"
     ]
    }
   ],
   "source": [
    "try:\n",
    "    number=input(\"Give me a number and I will calculate its square.\")\n",
    "    square=int(number)**2\n",
    "    print(f'The square of {number} is {square}!')\n",
    "except: # used in case something very invalid is inputed (eg. this case requires a numerical input. If words are inputted, then error occurs\n",
    "    print(f\"Oh oh! I cannot square {number}!\") #message to appear if error occurs"
   ]
  },
  {
   "attachments": {},
   "cell_type": "markdown",
   "id": "1d73d83f",
   "metadata": {},
   "source": [
    "## 1.3 A simple suggestion"
   ]
  },
  {
   "cell_type": "code",
   "execution_count": null,
   "id": "021efc6b-45f5-479a-b3da-8f818816a7f1",
   "metadata": {},
   "outputs": [],
   "source": [
    "#Add a print after functions that don't really show an output\n",
    "# --> for easy reference that the particular code works"
   ]
  },
  {
   "attachments": {},
   "cell_type": "markdown",
   "id": "d795774e",
   "metadata": {},
   "source": [
    "# 2 Some loose ends"
   ]
  },
  {
   "cell_type": "code",
   "execution_count": 9,
   "id": "28edbf71-a9e8-45de-baca-cce6c081c969",
   "metadata": {},
   "outputs": [
    {
     "data": {
      "text/plain": [
       "list"
      ]
     },
     "execution_count": 9,
     "metadata": {},
     "output_type": "execute_result"
    }
   ],
   "source": [
    "type([1, 2, 3])"
   ]
  },
  {
   "attachments": {},
   "cell_type": "markdown",
   "id": "71f650d0",
   "metadata": {},
   "source": [
    "## 2.1 Positional, keyword and default arguments"
   ]
  },
  {
   "cell_type": "code",
   "execution_count": 2,
   "id": "29a9d456-38b1-409e-8c68-1913baa6a880",
   "metadata": {},
   "outputs": [],
   "source": [
    "def side_by_side(a, b, c=42):\n",
    "    return f'{a: 2d}|{b: 2d}|{c: 2d}'"
   ]
  },
  {
   "cell_type": "code",
   "execution_count": 3,
   "id": "52c27a24-fa7b-4d35-8b22-0f34116c86ed",
   "metadata": {},
   "outputs": [
    {
     "data": {
      "text/plain": [
       "' 1| 2| 3'"
      ]
     },
     "execution_count": 3,
     "metadata": {},
     "output_type": "execute_result"
    }
   ],
   "source": [
    "# positional -- assigning the numbers to abs based on position\n",
    "side_by_side(1, 2, 3)"
   ]
  },
  {
   "cell_type": "code",
   "execution_count": 4,
   "id": "a105c17f-0bf3-4721-b160-9bfebfc937e7",
   "metadata": {},
   "outputs": [
    {
     "data": {
      "text/plain": [
       "' 2| 1| 3'"
      ]
     },
     "execution_count": 4,
     "metadata": {},
     "output_type": "execute_result"
    }
   ],
   "source": [
    "# keywords -- assigning each letter to a particular number\n",
    "side_by_side(c=3, b=1, a=2)"
   ]
  },
  {
   "cell_type": "code",
   "execution_count": 6,
   "id": "f5bf5165-06e4-48e8-9a00-1ebb4f870faf",
   "metadata": {},
   "outputs": [
    {
     "data": {
      "text/plain": [
       "' 1| 2| 42'"
      ]
     },
     "execution_count": 6,
     "metadata": {},
     "output_type": "execute_result"
    }
   ],
   "source": [
    "# default -- mixing position and keyword and leaving c as it is\n",
    "side_by_side(1, b=2)"
   ]
  },
  {
   "cell_type": "code",
   "execution_count": 7,
   "id": "93eec480-a2c3-41bc-90be-83a437d1cfbe",
   "metadata": {},
   "outputs": [
    {
     "data": {
      "text/plain": [
       "' 1| 2| 42'"
      ]
     },
     "execution_count": 7,
     "metadata": {},
     "output_type": "execute_result"
    }
   ],
   "source": [
    "side_by_side(1, 2)           # Two positional, 1 default\n",
    "## ' 1| 2| 42'\n",
    "side_by_side(1, 2, 3)        # Three positional\n",
    "## ' 1| 2| 3'\n",
    "side_by_side(a=1, b=2)       # Two keyword, 1 default\n",
    "## ' 1| 2| 42'\n",
    "side_by_side(c=3, b=1, a=2)  # Three keyword\n",
    "## ' 2| 1| 3'\n",
    "side_by_side(1, c=3, b=2)    # One positional, 2 keyword\n",
    "## ' 1| 2| 3'\n",
    "side_by_side(1, b=2)         # One positional, 1 keyword, 1 default\n",
    "## ' 1| 2| 42'"
   ]
  },
  {
   "cell_type": "code",
   "execution_count": 8,
   "id": "05e6d405-a99b-4e60-afad-2c02dbd70411",
   "metadata": {},
   "outputs": [
    {
     "ename": "SyntaxError",
     "evalue": "positional argument follows keyword argument (78550603.py, line 3)",
     "output_type": "error",
     "traceback": [
      "\u001b[1;36m  Cell \u001b[1;32mIn[8], line 3\u001b[1;36m\u001b[0m\n\u001b[1;33m    side_by_side(a=2, 1)      # Won't work.\u001b[0m\n\u001b[1;37m                       ^\u001b[0m\n\u001b[1;31mSyntaxError\u001b[0m\u001b[1;31m:\u001b[0m positional argument follows keyword argument\n"
     ]
    }
   ],
   "source": [
    "# Keywords cannot be followed \n",
    "# by positional arguments\n",
    "side_by_side(a=2, 1)      # Won't work.           \n",
    "# positional must always be before keywords"
   ]
  },
  {
   "attachments": {},
   "cell_type": "markdown",
   "id": "fe7f093d",
   "metadata": {},
   "source": [
    "## 2.2 Docstrings"
   ]
  },
  {
   "cell_type": "code",
   "execution_count": 11,
   "id": "dad1fe95-90d9-4657-b121-1cb41970c2f0",
   "metadata": {},
   "outputs": [],
   "source": [
    "def side_by_side(a, b, c=42):\n",
    "    '''\n",
    "    A test function to demonstrate how \n",
    "    positional, keyword and default arguments \n",
    "    work.help(side_by_side)\n",
    "    '''\n",
    "    return f'{a: 2d}|{b: 2d}|{c: 2d}'\n",
    "# docstring are between two \"'\"\n",
    "# it basically explains what the function does and what it is"
   ]
  },
  {
   "cell_type": "code",
   "execution_count": 12,
   "id": "61137f32-e9bc-4806-9680-6add9ef0714c",
   "metadata": {},
   "outputs": [
    {
     "name": "stdout",
     "output_type": "stream",
     "text": [
      "Help on function side_by_side in module __main__:\n",
      "\n",
      "side_by_side(a, b, c=42)\n",
      "    A test function to demonstrate how \n",
      "    positional, keyword and default arguments \n",
      "    work.help(side_by_side)\n",
      "\n"
     ]
    }
   ],
   "source": [
    "help(side_by_side) # this function brings up the docstring"
   ]
  },
  {
   "attachments": {},
   "cell_type": "markdown",
   "id": "16fd814f",
   "metadata": {},
   "source": [
    "## 2.3 Function are first-class citizens"
   ]
  },
  {
   "cell_type": "code",
   "execution_count": 14,
   "id": "54bbeb1d-9c89-43fe-917e-64fc7d2390b3",
   "metadata": {},
   "outputs": [
    {
     "ename": "NameError",
     "evalue": "name 'np' is not defined",
     "output_type": "error",
     "traceback": [
      "\u001b[1;31m---------------------------------------------------------------------------\u001b[0m",
      "\u001b[1;31mNameError\u001b[0m                                 Traceback (most recent call last)",
      "Cell \u001b[1;32mIn[14], line 8\u001b[0m\n\u001b[0;32m      5\u001b[0m         \u001b[38;5;28;01mreturn\u001b[39;00m trig_function(angle) \u001b[38;5;66;03m# return the output of another function\u001b[39;00m\n\u001b[0;32m      7\u001b[0m \u001b[38;5;66;03m# Let's use the function\u001b[39;00m\n\u001b[1;32m----> 8\u001b[0m my_function(np\u001b[38;5;241m.\u001b[39mpi\u001b[38;5;241m/\u001b[39m\u001b[38;5;241m2\u001b[39m, np\u001b[38;5;241m.\u001b[39msin)        \n\u001b[0;32m      9\u001b[0m \u001b[38;5;66;03m## 1.0\u001b[39;00m\n\u001b[0;32m     10\u001b[0m my_function(np\u001b[38;5;241m.\u001b[39mpi\u001b[38;5;241m/\u001b[39m\u001b[38;5;241m2\u001b[39m, np\u001b[38;5;241m.\u001b[39mcos)        \n",
      "\u001b[1;31mNameError\u001b[0m: name 'np' is not defined"
     ]
    }
   ],
   "source": [
    "# python functions are called first-class citizens because they have the same privileges as variables.\n",
    "# can pass a function as an argument to another function\n",
    "\n",
    "def my_function(angle, trig_function):\n",
    "        return trig_function(angle) # return the output of another function\n",
    "\n",
    "# Let's use the function\n",
    "my_function(np.pi/2, np.sin)        \n",
    "## 1.0\n",
    "my_function(np.pi/2, np.cos)        \n",
    "## 6.123233995736766e-17\n",
    "my_function(np.pi/2, lambda x: np.cos(2*x))  \n",
    "## -1.0"
   ]
  },
  {
   "attachments": {},
   "cell_type": "markdown",
   "id": "ad1dae98",
   "metadata": {},
   "source": [
    "## 2.4 More about unpacking"
   ]
  },
  {
   "cell_type": "code",
   "execution_count": 15,
   "id": "f753fb90-7677-4029-bed2-a1664f00cfc7",
   "metadata": {},
   "outputs": [
    {
     "data": {
      "text/plain": [
       "(1, 2, 3)"
      ]
     },
     "execution_count": 15,
     "metadata": {},
     "output_type": "execute_result"
    }
   ],
   "source": [
    "x, y, z = [1, 2, 3]\n",
    "x, y, z"
   ]
  },
  {
   "cell_type": "code",
   "execution_count": 17,
   "id": "1d5fc28c-537d-46ba-80a7-fefbdbe76f31",
   "metadata": {},
   "outputs": [
    {
     "data": {
      "text/plain": [
       "(1, 2, 3)"
      ]
     },
     "execution_count": 17,
     "metadata": {},
     "output_type": "execute_result"
    }
   ],
   "source": [
    "import numpy as np\n",
    "x, y, z = np.array([1, 2, 3])\n",
    "x, y, z"
   ]
  },
  {
   "cell_type": "code",
   "execution_count": 18,
   "id": "253e072d-6160-4fca-b51e-4eabb42fefb9",
   "metadata": {},
   "outputs": [
    {
     "data": {
      "text/plain": [
       "(1, [2, 3, 4], 5)"
      ]
     },
     "execution_count": 18,
     "metadata": {},
     "output_type": "execute_result"
    }
   ],
   "source": [
    "x, *y, z = np.array([1, 2, 3, 4, 5])\n",
    "x, y, z # the * groups up everything beyond that position inclusive, until specified"
   ]
  },
  {
   "cell_type": "code",
   "execution_count": 20,
   "id": "b10a44f5-a688-4003-897d-14d60146f4d8",
   "metadata": {},
   "outputs": [
    {
     "data": {
      "text/plain": [
       "(1, 5)"
      ]
     },
     "execution_count": 20,
     "metadata": {},
     "output_type": "execute_result"
    }
   ],
   "source": [
    "x, *z, y = [1, 2, 3, 4, 5]\n",
    "# the z is replaceable by anything\n",
    "# just don't have to include in what you want printed and all's good\n",
    "x, y"
   ]
  },
  {
   "cell_type": "code",
   "execution_count": 23,
   "id": "e7c4be15-e326-4137-ac32-64e33473060f",
   "metadata": {},
   "outputs": [
    {
     "data": {
      "text/plain": [
       "(1, 5)"
      ]
     },
     "execution_count": 23,
     "metadata": {},
     "output_type": "execute_result"
    }
   ],
   "source": [
    "x, *_, y = [1, 2, 3, 4, 5]\n",
    "# the underscore is replaceable by anything\n",
    "# just don't have to include in what you want printed and all's good\n",
    "x, y "
   ]
  }
 ],
 "metadata": {
  "kernelspec": {
   "display_name": "Python 3 (ipykernel)",
   "language": "python",
   "name": "python3"
  },
  "language_info": {
   "codemirror_mode": {
    "name": "ipython",
    "version": 3
   },
   "file_extension": ".py",
   "mimetype": "text/x-python",
   "name": "python",
   "nbconvert_exporter": "python",
   "pygments_lexer": "ipython3",
   "version": "3.11.5"
  },
  "toc": {
   "base_numbering": 1,
   "nav_menu": {},
   "number_sections": true,
   "sideBar": true,
   "skip_h1_title": false,
   "title_cell": "Table of Contents",
   "title_sidebar": "Contents",
   "toc_cell": false,
   "toc_position": {},
   "toc_section_display": true,
   "toc_window_display": false
  },
  "vscode": {
   "interpreter": {
    "hash": "31f2aee4e71d21fbe5cf8b01ff0e069b9275f58929596ceb00d14d90e3e16cd6"
   }
  }
 },
 "nbformat": 4,
 "nbformat_minor": 5
}
