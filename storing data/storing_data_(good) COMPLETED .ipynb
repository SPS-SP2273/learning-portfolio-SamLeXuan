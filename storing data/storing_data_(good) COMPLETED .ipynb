{
 "cells": [
  {
   "attachments": {},
   "cell_type": "markdown",
   "id": "123456",
   "metadata": {},
   "source": [
    "<div style=\"text-align:left;font-size:2em\"><span style=\"font-weight:bolder;font-size:1.25em\">SP2273 | Learning Portfolio</span><br><br><span style=\"font-weight:bold;color:darkred\">Storing Data (Good)</span></div>"
   ]
  },
  {
   "attachments": {},
   "cell_type": "markdown",
   "id": "09ec5811",
   "metadata": {},
   "source": [
    "# What to expect in this chapter"
   ]
  },
  {
   "attachments": {},
   "cell_type": "markdown",
   "id": "05cb88d4",
   "metadata": {},
   "source": [
    "# 1 Subsetting: Indexing and Slicing"
   ]
  },
  {
   "attachments": {},
   "cell_type": "markdown",
   "id": "25621e4a",
   "metadata": {},
   "source": [
    "## 1.1 Lists & Arrays in 1D | Subsetting & Indexing"
   ]
  },
  {
   "cell_type": "code",
   "execution_count": 2,
   "id": "ad8b0bb4-e64e-4875-a64a-f4c99de009a9",
   "metadata": {},
   "outputs": [],
   "source": [
    "# Subsetting means to ‘select’.\n",
    "# Indexing refers to selecting one element.\n",
    "# Slicing refers to selecting a range of elements."
   ]
  },
  {
   "cell_type": "markdown",
   "id": "e587de32-4053-40f8-bbf4-dde1d1d4cbbb",
   "metadata": {},
   "source": [
    "### slicing\n",
    "### [x,y,z] -- x is start (inclusive), y is end (exclusive), z is number of steps taken\n",
    "### a blank x or y suggests everything from the beginning/to the end\n",
    "### a negative number (x) suggests choosing element from the back\n",
    "### -1 step means giving elements in reverse order\n",
    "\n",
    "Syntax\t| Result\t\t| Note\n",
    "|:------|:-------------:|:-------|\n",
    "x[0]\t|First element\t|'a1'\t\n",
    "x[-1]\t|Last element\t|'j10'\t\n",
    "x[0:3]\t|Index 0 to 2\t|['a1','b2','c3']\tGives \n",
    " elements\n",
    "x[1:6]\t|Index 1 to 5\t|['b2','c3','d4','e5','f6']\tGives \n",
    " elements\n",
    "x[1:6:2]\t|Index 1 to 5 in steps of 2\t|['b2','d4','f6']\tGives every other of \n",
    " elements\n",
    "x[5:]\t|Index 5 to the end\t|['f6','g7','h8','i9','j10']\tGives len(x)\n",
    " elements\n",
    "x[:5]\t|Index 0 to 5\t|['a1','b2','c3','d4','e5']\tGives \n",
    " elements\n",
    "x[5:2:-1]\t|Index 5 to 3 (i.e., in reverse)\t|['f6','e5','d4']\tGives \n",
    " elements\n",
    "x[::-1]\t|Reverses the list\t|['j10','i9','h8',...,'b2','a1']\t"
   ]
  },
  {
   "attachments": {},
   "cell_type": "markdown",
   "id": "cf564863",
   "metadata": {},
   "source": [
    "## 1.2 Arrays only | Subsetting by masking"
   ]
  },
  {
   "cell_type": "code",
   "execution_count": 6,
   "id": "a7b3a6a4-d05b-42da-8aa3-29e621a8b0f2",
   "metadata": {},
   "outputs": [
    {
     "data": {
      "text/plain": [
       "array([False, False, False,  True,  True,  True,  True,  True,  True,\n",
       "        True])"
      ]
     },
     "execution_count": 6,
     "metadata": {},
     "output_type": "execute_result"
    }
   ],
   "source": [
    "import numpy as np\n",
    "np_array = np.array([1, 2, 3, 4, 5, 6, 7, 8, 9, 10])\n",
    "my_mask = np_array > 3 # using a condition to select a range you want\n",
    "my_mask # python wiill process this as a tue or false array"
   ]
  },
  {
   "cell_type": "code",
   "execution_count": 7,
   "id": "cf64f607-ac8c-4fd2-aec7-a5057e983385",
   "metadata": {},
   "outputs": [
    {
     "data": {
      "text/plain": [
       "array([ 4,  5,  6,  7,  8,  9, 10])"
      ]
     },
     "execution_count": 7,
     "metadata": {},
     "output_type": "execute_result"
    }
   ],
   "source": [
    "np_array[my_mask] # putting my_mask in an array will print out elements within the condition\n",
    "# count-true counts number of \"trues\""
   ]
  },
  {
   "cell_type": "code",
   "execution_count": 8,
   "id": "1add020d-a96f-4a5e-9b06-bdc3b4119d4d",
   "metadata": {},
   "outputs": [
    {
     "data": {
      "text/plain": [
       "array([ 1,  2,  9, 10])"
      ]
     },
     "execution_count": 8,
     "metadata": {},
     "output_type": "execute_result"
    }
   ],
   "source": [
    "np_array[~(np_array > 3)]                 # '~' means 'NOT'\n",
    "np_array[(np_array > 3) & (np_array < 8)] # '&' means 'AND\n",
    "np_array[(np_array < 3) | (np_array > 8)] # '|' means 'OR'"
   ]
  },
  {
   "attachments": {},
   "cell_type": "markdown",
   "id": "5a3717f6",
   "metadata": {},
   "source": [
    "## 1.3 Lists & Arrays in 2D | Indexing & Slicing"
   ]
  },
  {
   "cell_type": "code",
   "execution_count": 9,
   "id": "2a20d2b5-a7f9-40ec-b1a7-0cbeb4dab381",
   "metadata": {},
   "outputs": [],
   "source": [
    "py_list_2d = [[1, \"A\"], [2, \"B\"], [3, \"C\"], [4, \"D\"],\n",
    "              [5, \"E\"], [6, \"F\"], [7, \"G\"], [8, \"H\"],\n",
    "              [9, \"I\"], [10, \"J\"]]\n",
    "\n",
    "np_array_2d = np.array(py_list_2d)"
   ]
  },
  {
   "cell_type": "code",
   "execution_count": 11,
   "id": "ebee9ea4-d9ce-4813-9c3b-dc2d7601e6c6",
   "metadata": {},
   "outputs": [
    {
     "data": {
      "text/plain": [
       "array(['4', 'D'], dtype='<U11')"
      ]
     },
     "execution_count": 11,
     "metadata": {},
     "output_type": "execute_result"
    }
   ],
   "source": [
    "py_list_2d[3]\n",
    "np_array_2d[3] #position 4,,index 3"
   ]
  },
  {
   "cell_type": "code",
   "execution_count": 14,
   "id": "115ae7ea-9dd4-4e85-a32d-69620a20ac47",
   "metadata": {},
   "outputs": [
    {
     "data": {
      "text/plain": [
       "'4'"
      ]
     },
     "execution_count": 14,
     "metadata": {},
     "output_type": "execute_result"
    }
   ],
   "source": [
    "py_list_2d[3][0] # indicates the index + element placement\n",
    "np_array_2d[3, 0] # first element @ position 4"
   ]
  },
  {
   "cell_type": "code",
   "execution_count": 15,
   "id": "469cf33c-2e8c-4beb-b3b4-e484259b3c60",
   "metadata": {},
   "outputs": [
    {
     "data": {
      "text/plain": [
       "array(['1', '2', '3'], dtype='<U11')"
      ]
     },
     "execution_count": 15,
     "metadata": {},
     "output_type": "execute_result"
    }
   ],
   "source": [
    "py_list_2d[:3][0]\n",
    "np_array_2d[:3, 0]"
   ]
  },
  {
   "cell_type": "code",
   "execution_count": 20,
   "id": "2a6ee0f5-1414-4369-9e96-5bae8cdf9fbd",
   "metadata": {},
   "outputs": [
    {
     "data": {
      "text/plain": [
       "[4, 'D']"
      ]
     },
     "execution_count": 20,
     "metadata": {},
     "output_type": "execute_result"
    }
   ],
   "source": [
    "py_list_2d[3:6][0]\n",
    "# doing this in normal list gives the first position within this range of positions"
   ]
  },
  {
   "cell_type": "code",
   "execution_count": 21,
   "id": "5c0a51a3-1268-4642-be4a-a1a195219933",
   "metadata": {},
   "outputs": [
    {
     "data": {
      "text/plain": [
       "array(['4', '5', '6'], dtype='<U11')"
      ]
     },
     "execution_count": 21,
     "metadata": {},
     "output_type": "execute_result"
    }
   ],
   "source": [
    "np_array_2d[3:6, 0]\n",
    "# doing this in numpy array gives the first elements from within this range of positions"
   ]
  },
  {
   "attachments": {},
   "cell_type": "markdown",
   "id": "f113a312",
   "metadata": {},
   "source": [
    "## 1.4 Growing lists"
   ]
  },
  {
   "cell_type": "code",
   "execution_count": 22,
   "id": "75b0d62c-4174-402e-a1cf-90c194f6620c",
   "metadata": {},
   "outputs": [
    {
     "data": {
      "text/plain": [
       "[1, 2, 1, 2, 1, 2, 1, 2, 1, 2]"
      ]
     },
     "execution_count": 22,
     "metadata": {},
     "output_type": "execute_result"
    }
   ],
   "source": [
    "# appending in lists\n",
    "x=[1, 2]*5\n",
    "x"
   ]
  },
  {
   "cell_type": "code",
   "execution_count": 28,
   "id": "f7ca4152-4e21-496b-aec1-6d1347ee642e",
   "metadata": {},
   "outputs": [
    {
     "data": {
      "text/plain": [
       "[1, 2, 3, [4, 5, 6]]"
      ]
     },
     "execution_count": 28,
     "metadata": {},
     "output_type": "execute_result"
    }
   ],
   "source": [
    "x = [1, 2, 3] \n",
    "x += [4, 5, 6]\n",
    "x\n",
    "x=[1, 2, 3] # appending lists -- literally adding everything within the curly brackets\n",
    "x.append([4, 5, 6])\n",
    "x"
   ]
  },
  {
   "cell_type": "code",
   "execution_count": 29,
   "id": "6d369054-90ad-41d7-9158-c4331c3e1ede",
   "metadata": {},
   "outputs": [
    {
     "data": {
      "text/plain": [
       "[1, 2, 3, 4, 5, 6]"
      ]
     },
     "execution_count": 29,
     "metadata": {},
     "output_type": "execute_result"
    }
   ],
   "source": [
    "x=[1, 2, 3] # extending lists\n",
    "x.extend([4, 5, 6]) # only adds on the numbers\n",
    "x"
   ]
  },
  {
   "attachments": {},
   "cell_type": "markdown",
   "id": "048134dd",
   "metadata": {},
   "source": [
    "# Some loose ends"
   ]
  },
  {
   "attachments": {},
   "cell_type": "markdown",
   "id": "a653e5e7",
   "metadata": {},
   "source": [
    "## 1.5 Tuples"
   ]
  },
  {
   "cell_type": "code",
   "execution_count": 31,
   "id": "068d0646-86bc-4a94-a7bb-b188e2ef129c",
   "metadata": {},
   "outputs": [
    {
     "data": {
      "text/plain": [
       "tuple"
      ]
     },
     "execution_count": 31,
     "metadata": {},
     "output_type": "execute_result"
    }
   ],
   "source": [
    "# tuples are defined within curly brackets\n",
    "a=(1, 2, 3)     # Define tuple\n",
    "type(a)"
   ]
  },
  {
   "cell_type": "code",
   "execution_count": 32,
   "id": "bf21bf1c-03a2-4a14-a6f4-50f12689bcd5",
   "metadata": {},
   "outputs": [
    {
     "name": "stdout",
     "output_type": "stream",
     "text": [
      "1\n"
     ]
    }
   ],
   "source": [
    "print(a[0])    # Access data"
   ]
  },
  {
   "cell_type": "code",
   "execution_count": 33,
   "id": "147107b6-926d-434d-8476-4f949ee3a1ff",
   "metadata": {},
   "outputs": [],
   "source": [
    "# tuples are immutable and cannot be changed\n",
    "# useful when very long codes are involved"
   ]
  },
  {
   "attachments": {},
   "cell_type": "markdown",
   "id": "7606d1ba",
   "metadata": {},
   "source": [
    "## 1.6 Be VERY careful when copying"
   ]
  },
  {
   "cell_type": "code",
   "execution_count": 36,
   "id": "8f2db7d8-acb8-44fb-9b68-2ed5d7eb1d78",
   "metadata": {},
   "outputs": [],
   "source": [
    "x=[1, 2, 3]\n",
    "y=x           # DON'T do this!\n",
    "z=x           # DON'T do this!\n",
    "# this directly changes the original list if you plan to change something"
   ]
  },
  {
   "cell_type": "code",
   "execution_count": 39,
   "id": "916f6059-66ea-4389-9c26-ef86649a0027",
   "metadata": {},
   "outputs": [],
   "source": [
    "x=[1, 2, 3]\n",
    "y=x.copy()\n",
    "z=x.copy()\n",
    "# this makes y and z lists but NOT a tuple -- components of x can be changed without changing the actual x"
   ]
  },
  {
   "attachments": {},
   "cell_type": "markdown",
   "id": "ef008c60",
   "metadata": {},
   "source": [
    "## Footnotes"
   ]
  }
 ],
 "metadata": {
  "kernelspec": {
   "display_name": "Python 3 (ipykernel)",
   "language": "python",
   "name": "python3"
  },
  "language_info": {
   "codemirror_mode": {
    "name": "ipython",
    "version": 3
   },
   "file_extension": ".py",
   "mimetype": "text/x-python",
   "name": "python",
   "nbconvert_exporter": "python",
   "pygments_lexer": "ipython3",
   "version": "3.11.5"
  },
  "toc": {
   "base_numbering": 1,
   "nav_menu": {},
   "number_sections": true,
   "sideBar": true,
   "skip_h1_title": false,
   "title_cell": "Table of Contents",
   "title_sidebar": "Contents",
   "toc_cell": false,
   "toc_position": {},
   "toc_section_display": true,
   "toc_window_display": false
  },
  "vscode": {
   "interpreter": {
    "hash": "31f2aee4e71d21fbe5cf8b01ff0e069b9275f58929596ceb00d14d90e3e16cd6"
   }
  }
 },
 "nbformat": 4,
 "nbformat_minor": 5
}
