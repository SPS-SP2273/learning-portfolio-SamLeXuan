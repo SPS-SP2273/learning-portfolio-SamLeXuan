{
 "cells": [
  {
   "cell_type": "markdown",
   "id": "a8bcdb4e-8020-40fc-9ef4-30b537edc8d9",
   "metadata": {},
   "source": [
    "# Introduction"
   ]
  },
  {
   "cell_type": "markdown",
   "id": "c36a908b-6289-4c64-91fc-dd085ca03597",
   "metadata": {},
   "source": [
    "# **Quadratic Equations**\n",
    "___________________________\n",
    "## **Introduction**\n",
    "![](https://upload.wikimedia.org/wikipedia/commons/thumb/f/f8/Polynomialdeg2.svg/800px-Polynomialdeg2.svg.png)\n",
    "### (*Image from the [Wikipedia page on Quadratic equations](https://en.wikipedia.org/wiki/Quadratic_equation)*)\n",
    "### The general form of a quadratic equation is:\n",
    "### $$ax^2 + bx + c = 0$$"
   ]
  },
  {
   "attachments": {},
   "cell_type": "markdown",
   "id": "3f09a8d8",
   "metadata": {},
   "source": [
    "## Solutions"
   ]
  },
  {
   "cell_type": "markdown",
   "id": "f6b89033-61ad-4542-abdf-82e2d0657e4f",
   "metadata": {},
   "source": [
    "## **Solutions**\n",
    "### Provided $a \\ne 0$, we can use an elementary algebraic method called [completeing the square](https://en.wikipedia.org/wiki/Completing_the_square) to show that a quadratic equation has the following solution:\n",
    "### $$x=\\dfrac{-b \\pm \\sqrt{b^2 -4ac}}{2a}$$"
   ]
  },
  {
   "attachments": {},
   "cell_type": "markdown",
   "id": "48d910d3",
   "metadata": {},
   "source": [
    "### Discriminant"
   ]
  },
  {
   "cell_type": "markdown",
   "id": "531f153e-087b-4b3d-86f8-f7a8c1d3bbe2",
   "metadata": {},
   "source": [
    "## **Discriminant**\n",
    "### The quantity $\\Delta = b^2-4ac$ is called the **discriminant** of the equation and decides the nature of its solutions. The table below shows the various possibilities.\n",
    "\n",
    "| **Discriminat**         | **Roots**                           |\n",
    "| :----------------------:|:------------------------------------|\n",
    "|$\\Delta = b^2-4ac = 0$   | A single solution of $-b/(2a)$      |\n",
    "|$\\Delta = b^2-4ac \\gt 0$ | Two distinct solutions              |\n",
    "|$\\Delta = b^2-4ac \\lt 0$ | No real solutions; both are complex.|"
   ]
  },
  {
   "cell_type": "markdown",
   "id": "93a042f1-01f2-4b24-9dfe-3462fe64f230",
   "metadata": {},
   "source": [
    "## **Exercise 2**\n",
    "1. A Git repository is a central storage location that tracks changes in files and directories. It is a main folder that autosaves and stores any updated document after changes are made inside any one of its files.\n",
    "2. Changes\n",
    "3. A commit records changes to one or more files in a branch. By recording the changes made to the repositories at any point in time, it can be used to track the history of a project be used to reference a previous commit.\n",
    "4. A push is to export and send an updated commit to a shared, external repository.\n",
    "5. A pull is to import the external repository to one's own local repository, and is used to fetch and merge changes from the expernal repository.\n",
    "6. GitHub Desktop uses a graphical user interface (GUI) that lets users interact better with GitHub while GitHub does not use a GUI but uses a web interface instead."
   ]
  },
  {
   "cell_type": "code",
   "execution_count": null,
   "id": "9b29fc66-8a4f-4254-8928-e79bd2a9b5bf",
   "metadata": {},
   "outputs": [],
   "source": []
  }
 ],
 "metadata": {
  "kernelspec": {
   "display_name": "Python 3 (ipykernel)",
   "language": "python",
   "name": "python3"
  },
  "language_info": {
   "codemirror_mode": {
    "name": "ipython",
    "version": 3
   },
   "file_extension": ".py",
   "mimetype": "text/x-python",
   "name": "python",
   "nbconvert_exporter": "python",
   "pygments_lexer": "ipython3",
   "version": "3.11.5"
  },
  "toc": {
   "base_numbering": 1,
   "nav_menu": {},
   "number_sections": true,
   "sideBar": true,
   "skip_h1_title": false,
   "title_cell": "Table of Contents",
   "title_sidebar": "Contents",
   "toc_cell": false,
   "toc_position": {},
   "toc_section_display": true,
   "toc_window_display": false
  },
  "vscode": {
   "interpreter": {
    "hash": "31f2aee4e71d21fbe5cf8b01ff0e069b9275f58929596ceb00d14d90e3e16cd6"
   }
  }
 },
 "nbformat": 4,
 "nbformat_minor": 5
}
