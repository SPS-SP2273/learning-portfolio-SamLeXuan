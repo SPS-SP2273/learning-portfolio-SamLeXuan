{
 "cells": [
  {
   "attachments": {},
   "cell_type": "markdown",
   "id": "123456",
   "metadata": {},
   "source": [
    "<div style=\"text-align:left;font-size:2em\"><span style=\"font-weight:bolder;font-size:1.25em\">SP2273 | Learning Portfolio</span><br><br><span style=\"font-weight:bold;color:darkred\">Fundamentals (Need) Exercises</span></div>"
   ]
  },
  {
   "cell_type": "markdown",
   "id": "8b14724e-c020-432f-86c5-6657dffea0f4",
   "metadata": {},
   "source": [
    "# Exercise 1\n",
    "Part 1\n",
    "1. Running cells\n",
    "2. Markdown\n",
    "3. Basic syntax (ie. bold, italic, subscript, superscirpt)\n",
    "4. Headings\n",
    "5. Display code\n",
    "6. Images\n",
    "7. Links\n",
    "8. Tables\n",
    "9. Lists\n",
    "10. Keyboard shortcuts\n",
    "11. The Kernel\n",
    "12. Shell Magic\n",
    "13. Functions\n",
    "14. Comments\n",
    "15. English vs variables\n",
    "16. Different packages\n",
    "\n",
    "Part 2\n",
    "1. Shell Command\n",
    "2. Install Notebook 7\n",
    "3. = is not the same as ==\n",
    "4. Use if to make decisions\n",
    "5. The dot\n",
    "6. Indentations\n",
    "7. Brackets"
   ]
  },
  {
   "cell_type": "markdown",
   "id": "6cb7cb78-f84d-4969-a5e9-5e65b9fe89da",
   "metadata": {},
   "source": [
    "# Exercise 2"
   ]
  },
  {
   "cell_type": "code",
   "execution_count": 22,
   "id": "10dc503b-2e88-4f69-9d5a-4caf302fc300",
   "metadata": {},
   "outputs": [
    {
     "name": "stdout",
     "output_type": "stream",
     "text": [
      "3 4 5.0\n"
     ]
    }
   ],
   "source": [
    "import numpy as np\n",
    "x, y = 3, 4\n",
    "z = np.sqrt(x**2 + y**2)\n",
    "print(x, y, z)"
   ]
  },
  {
   "cell_type": "markdown",
   "id": "aa064a5a-d536-42e2-84a5-ba2d6ef70432",
   "metadata": {},
   "source": [
    "# Exercise 3\n",
    "|  #  |  Term  |  Description  |\n",
    "|:----|:------:|:--------------|\n",
    "|1| Function| \"something\" that does a specific task, and the \"something\" is reusable |\n",
    "|2| Arguments| the information inside the brackets of a particular function|\n",
    "|3| Comments| extra information to make notes|\n",
    "|4| Indentations|space and tab placement|\n",
    "|5| Packages| big files that gives a funciton to previously undefined terms|\n",
    "|6| .| indicating ownership of a function that comes after the dot|\n",
    "|7| :| a punctuation mark signifying the start of a new block of code|\n",
    "|8| []|brackets for creating a list|\n",
    "|9|[[[]]]|a blank list within a list that's also within a list|\n",
    "|10| {}|brackets for storing data and creating a dictionary|"
   ]
  },
  {
   "cell_type": "markdown",
   "id": "081ac6e1-6f11-45b2-9dda-a8c163774cc1",
   "metadata": {},
   "source": [
    "# Exercise 4"
   ]
  },
  {
   "cell_type": "code",
   "execution_count": 25,
   "id": "e1199237-571a-4324-bc26-5aea5cd2208c",
   "metadata": {},
   "outputs": [
    {
     "data": {
      "text/plain": [
       "2.5"
      ]
     },
     "execution_count": 25,
     "metadata": {},
     "output_type": "execute_result"
    }
   ],
   "source": [
    "5/2 # division"
   ]
  },
  {
   "cell_type": "code",
   "execution_count": 33,
   "id": "91127c21-b1fb-4c87-97aa-cccf1f8e897d",
   "metadata": {},
   "outputs": [
    {
     "data": {
      "text/plain": [
       "2"
      ]
     },
     "execution_count": 33,
     "metadata": {},
     "output_type": "execute_result"
    }
   ],
   "source": [
    "5//2 # to find the quotient after dividing by the number after \"//\", disregarding the remainder"
   ]
  },
  {
   "cell_type": "code",
   "execution_count": 38,
   "id": "25f84450-699b-4058-9f9c-a5691faf50df",
   "metadata": {},
   "outputs": [
    {
     "data": {
      "text/plain": [
       "1"
      ]
     },
     "execution_count": 38,
     "metadata": {},
     "output_type": "execute_result"
    }
   ],
   "source": [
    "5%2 # to find the remainder after dividing by the number after dividing by the number after \"%\""
   ]
  }
 ],
 "metadata": {
  "kernelspec": {
   "display_name": "Python 3 (ipykernel)",
   "language": "python",
   "name": "python3"
  },
  "language_info": {
   "codemirror_mode": {
    "name": "ipython",
    "version": 3
   },
   "file_extension": ".py",
   "mimetype": "text/x-python",
   "name": "python",
   "nbconvert_exporter": "python",
   "pygments_lexer": "ipython3",
   "version": "3.11.5"
  },
  "toc": {
   "base_numbering": 1,
   "nav_menu": {},
   "number_sections": true,
   "sideBar": true,
   "skip_h1_title": false,
   "title_cell": "Table of Contents",
   "title_sidebar": "Contents",
   "toc_cell": false,
   "toc_position": {},
   "toc_section_display": true,
   "toc_window_display": false
  },
  "vscode": {
   "interpreter": {
    "hash": "31f2aee4e71d21fbe5cf8b01ff0e069b9275f58929596ceb00d14d90e3e16cd6"
   }
  }
 },
 "nbformat": 4,
 "nbformat_minor": 5
}
