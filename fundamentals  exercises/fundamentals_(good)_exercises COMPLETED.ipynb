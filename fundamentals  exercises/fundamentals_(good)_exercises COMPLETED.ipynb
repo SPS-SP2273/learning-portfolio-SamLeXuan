{
 "cells": [
  {
   "attachments": {},
   "cell_type": "markdown",
   "id": "123456",
   "metadata": {},
   "source": [
    "<div style=\"text-align:left;font-size:2em\"><span style=\"font-weight:bolder;font-size:1.25em\">SP2273 | Learning Portfolio</span><br><br><span style=\"font-weight:bold;color:darkred\">Fundamentals (Good) Exercises</span></div>"
   ]
  },
  {
   "cell_type": "code",
   "execution_count": null,
   "id": "b72c3446-a711-4aa4-8169-a43c61163380",
   "metadata": {},
   "outputs": [],
   "source": [
    "score = input(\"Enter the student's score\")\n",
    "try:\n",
    "    score = float(score)\n",
    "    if 0<=score<=34:\n",
    "        print(\"You failed :( It's ok :D\")\n",
    "    elif 35<=score<=49:\n",
    "        print(\"The student's letter grade is: C\")\n",
    "    elif 50<=score<=69:\n",
    "        print(\"The student's letter grade is: B\")\n",
    "    elif 70<=score<=100:\n",
    "        print(\"The student's letter grade is: A\")\n",
    "    else:\n",
    "        print(\"Please input your real score :)\")\n",
    "except:\n",
    "    print(\"Please input a valid score :)\")\n"
   ]
  },
  {
   "cell_type": "code",
   "execution_count": null,
   "id": "cb2b4edc-c35f-4ced-847e-2201613269ec",
   "metadata": {},
   "outputs": [],
   "source": []
  }
 ],
 "metadata": {
  "kernelspec": {
   "display_name": "Python 3 (ipykernel)",
   "language": "python",
   "name": "python3"
  },
  "language_info": {
   "codemirror_mode": {
    "name": "ipython",
    "version": 3
   },
   "file_extension": ".py",
   "mimetype": "text/x-python",
   "name": "python",
   "nbconvert_exporter": "python",
   "pygments_lexer": "ipython3",
   "version": "3.11.5"
  },
  "toc": {
   "base_numbering": 1,
   "nav_menu": {},
   "number_sections": true,
   "sideBar": true,
   "skip_h1_title": false,
   "title_cell": "Table of Contents",
   "title_sidebar": "Contents",
   "toc_cell": false,
   "toc_position": {},
   "toc_section_display": true,
   "toc_window_display": false
  },
  "vscode": {
   "interpreter": {
    "hash": "31f2aee4e71d21fbe5cf8b01ff0e069b9275f58929596ceb00d14d90e3e16cd6"
   }
  }
 },
 "nbformat": 4,
 "nbformat_minor": 5
}
