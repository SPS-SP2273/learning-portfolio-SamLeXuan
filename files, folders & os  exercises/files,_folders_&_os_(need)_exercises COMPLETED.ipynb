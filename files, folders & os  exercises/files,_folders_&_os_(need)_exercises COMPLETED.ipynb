{
 "cells": [
  {
   "attachments": {},
   "cell_type": "markdown",
   "id": "123456",
   "metadata": {},
   "source": [
    "<div style=\"text-align:left;font-size:2em\"><span style=\"font-weight:bolder;font-size:1.25em\">SP2273 | Learning Portfolio</span><br><br><span style=\"font-weight:bold;color:darkred\">Files, Folders & OS (Need) Exercises</span></div>"
   ]
  },
  {
   "cell_type": "code",
   "execution_count": 8,
   "id": "a42fd655-1cd1-41c9-8b0d-e35686829eab",
   "metadata": {},
   "outputs": [
    {
     "name": "stdout",
     "output_type": "stream",
     "text": [
      "10-08_singapore.txt\n"
     ]
    }
   ],
   "source": [
    "# task 1\n",
    "import os \n",
    "import shutil\n",
    "source_directory = '../os-collaboration-exercise-data'\n",
    "month_mapping = {\n",
    "    'jan': '01', 'feb': '02', 'mar': '03',\n",
    "    'apr': '04', 'may': '05', 'jun': '06',\n",
    "    'jul': '07', 'aug': '08', 'sep': '09',\n",
    "    'oct': '10', 'nov': '11', 'dec': '12'\n",
    "}\n",
    "\n",
    "filename = 'oct-08_singapore.txt'\n",
    "parts = filename.split('_')\n",
    "month, date = parts[0].split('-')\n",
    "month_numeric = month_mapping[month.lower()]\n",
    "new_filename = f\"{month_numeric}-{date}_{parts[1]}\"\n",
    "print(new_filename)\n"
   ]
  },
  {
   "cell_type": "code",
   "execution_count": 9,
   "id": "9ffdbe19-7496-4f2e-951f-95e9542cefb4",
   "metadata": {},
   "outputs": [
    {
     "name": "stdout",
     "output_type": "stream",
     "text": [
      "10-08_singapore.txt\n"
     ]
    }
   ],
   "source": [
    "def rename_my_file(old_file_name):\n",
    "    month_mapping = {\n",
    "        'jan': '01', 'feb': '02', 'mar': '03',\n",
    "        'apr': '04', 'may': '05', 'jun': '06',\n",
    "        'jul': '07', 'aug': '08', 'sep': '09',\n",
    "        'oct': '10', 'nov': '11', 'dec': '12'\n",
    "    }\n",
    "    parts = old_file_name.split('_')\n",
    "    month, date = parts[0].split('-')\n",
    "    month_numeric = month_mapping[month.lower()]\n",
    "    new_filename = f\"{month_numeric}-{date}_{parts[1]}\"\n",
    "    return new_filename\n",
    "old_file_name = 'oct-08_singapore.txt'\n",
    "new_file_name = rename_my_file(old_file_name)\n",
    "print(new_file_name)\n"
   ]
  },
  {
   "cell_type": "code",
   "execution_count": 10,
   "id": "90214fdd-3c51-4114-88fb-72dbe00962b2",
   "metadata": {},
   "outputs": [
    {
     "name": "stdout",
     "output_type": "stream",
     "text": [
      "oct-08_singapore.txt ----> 10-08_singapore.txt\n",
      "jul-10_cairo.txt ----> 07-10_cairo.txt\n",
      "may-15_dhaka.txt ----> 05-15_dhaka.txt\n",
      "may-13_cairo.txt ----> 05-13_cairo.txt\n",
      "oct-21_cairo.txt ----> 10-21_cairo.txt\n",
      "jan-10_singapore.txt ----> 01-10_singapore.txt\n",
      "jun-20_tokyo.txt ----> 06-20_tokyo.txt\n",
      "aug-06_jakarta.txt ----> 08-06_jakarta.txt\n",
      "dec-21_karachi.txt ----> 12-21_karachi.txt\n",
      "jan-01_tokyo.txt ----> 01-01_tokyo.txt\n"
     ]
    }
   ],
   "source": [
    "file_list = ['oct-08_singapore.txt', 'jul-10_cairo.txt', 'may-15_dhaka.txt',\n",
    "             'may-13_cairo.txt', 'oct-21_cairo.txt', 'jan-10_singapore.txt',\n",
    "             'jun-20_tokyo.txt', 'aug-06_jakarta.txt', 'dec-21_karachi.txt',\n",
    "             'jan-01_tokyo.txt']\n",
    "for old_file_name in file_list:\n",
    "    new_file_name = rename_my_file(old_file_name)\n",
    "    print(f\"{old_file_name} ----> {new_file_name}\")"
   ]
  },
  {
   "cell_type": "code",
   "execution_count": 12,
   "id": "862fe9c2-a69c-4d98-be54-fe426ce8b23e",
   "metadata": {},
   "outputs": [],
   "source": [
    "import glob\n",
    "import os\n",
    "txt_files = glob.glob('*.txt')\n",
    "\n",
    "for old_file_name in txt_files:\n",
    "    new_file_name = rename_my_file(old_file_name)\n",
    "    if new_file_name in txt_files:\n",
    "        print(f\"Skipping {old_file_name}, {new_file_name} already exists.\")\n",
    "    else:\n",
    "        os.rename(old_file_name, new_file_name)\n",
    "        print(f\"Renamed {old_file_name} to {new_file_name}\")"
   ]
  },
  {
   "cell_type": "code",
   "execution_count": 13,
   "id": "e2acd1aa-d1d7-4a62-93ed-35da89bf5262",
   "metadata": {},
   "outputs": [
    {
     "name": "stdout",
     "output_type": "stream",
     "text": [
      "Folder created for Cairo\n",
      "Folder created for Dhaka\n",
      "Folder created for Jakarta\n",
      "Folder created for Karachi\n",
      "Folder created for Manila\n",
      "Folder created for Melbourne\n",
      "Folder created for Osaka\n",
      "Folder created for Shanghai\n",
      "Folder created for Singapore\n",
      "Folder created for Tokyo\n"
     ]
    }
   ],
   "source": [
    "cities = ['Cairo', 'Dhaka', 'Jakarta', 'Karachi', 'Manila',\n",
    "          'Melbourne', 'Osaka', 'Shanghai', 'Singapore', 'Tokyo']\n",
    "for city in cities:\n",
    "    if not os.path.exists(city):\n",
    "        os.makedirs(city)\n",
    "        print(f\"Folder created for {city}\")\n",
    "    else:\n",
    "        print(f\"Folder for {city} already exists\")"
   ]
  },
  {
   "cell_type": "code",
   "execution_count": 14,
   "id": "60e136aa-744c-4fd7-b828-5e470bc5bc8d",
   "metadata": {},
   "outputs": [],
   "source": [
    "import glob\n",
    "import shutil\n",
    "import os\n",
    "\n",
    "cairo_files = glob.glob('data/*-cairo.txt')\n",
    "cairo_folder = 'data/Cairo'\n",
    "for file in cairo_files:\n",
    "    filename = os.path.basename(file)\n",
    "    destination = os.path.join(cairo_folder, filename)\n",
    "    shutil.copy(file, destination)\n",
    "    print(f\"Copied {file} to {destination}\")"
   ]
  },
  {
   "cell_type": "code",
   "execution_count": 16,
   "id": "0fd03160-4278-4eb7-ac25-8b4d325f2279",
   "metadata": {},
   "outputs": [
    {
     "name": "stdout",
     "output_type": "stream",
     "text": [
      "Moved Dhaka to data/Dhaka\\Dhaka\n",
      "Moved Jakarta to data/Jakarta\\Jakarta\n",
      "Moved Karachi to data/Karachi\\Karachi\n",
      "Moved Manila to data/Manila\\Manila\n",
      "Moved Melbourne to data/Melbourne\\Melbourne\n",
      "Moved Osaka to data/Osaka\\Osaka\n",
      "Moved Shanghai to data/Shanghai\\Shanghai\n",
      "Moved Singapore to data/Singapore\\Singapore\n",
      "Moved Tokyo to data/Tokyo\\Tokyo\n"
     ]
    }
   ],
   "source": [
    "import glob\n",
    "import shutil\n",
    "import os\n",
    "\n",
    "cities = ['Dhaka', 'Jakarta', 'Karachi', 'Manila',\n",
    "          'Melbourne', 'Osaka', 'Shanghai', 'Singapore', 'Tokyo'] # Cairo deleted because file removed\n",
    "\n",
    "for city in cities:\n",
    "    city_files = glob.glob(f'*{city.lower()}*') # convert cities in filename to lowercase -- f string for a valid search to be done\n",
    "    city_folder = f'data/{city}'\n",
    "    for file in city_files:\n",
    "        filename = os.path.basename(file)\n",
    "        destination = os.path.join(city_folder, filename)\n",
    "        shutil.move(file, destination)\n",
    "        print(f\"Moved {file} to {destination}\")"
   ]
  },
  {
   "cell_type": "code",
   "execution_count": null,
   "id": "6e7f2b88-0824-4ac2-b028-1c7d8994cd1b",
   "metadata": {},
   "outputs": [],
   "source": []
  }
 ],
 "metadata": {
  "kernelspec": {
   "display_name": "Python 3 (ipykernel)",
   "language": "python",
   "name": "python3"
  },
  "language_info": {
   "codemirror_mode": {
    "name": "ipython",
    "version": 3
   },
   "file_extension": ".py",
   "mimetype": "text/x-python",
   "name": "python",
   "nbconvert_exporter": "python",
   "pygments_lexer": "ipython3",
   "version": "3.11.5"
  },
  "toc": {
   "base_numbering": 1,
   "nav_menu": {},
   "number_sections": true,
   "sideBar": true,
   "skip_h1_title": false,
   "title_cell": "Table of Contents",
   "title_sidebar": "Contents",
   "toc_cell": false,
   "toc_position": {},
   "toc_section_display": true,
   "toc_window_display": false
  },
  "vscode": {
   "interpreter": {
    "hash": "31f2aee4e71d21fbe5cf8b01ff0e069b9275f58929596ceb00d14d90e3e16cd6"
   }
  }
 },
 "nbformat": 4,
 "nbformat_minor": 5
}
