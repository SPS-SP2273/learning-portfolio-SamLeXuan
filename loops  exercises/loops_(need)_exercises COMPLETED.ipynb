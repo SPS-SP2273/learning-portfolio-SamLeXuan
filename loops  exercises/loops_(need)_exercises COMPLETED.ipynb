{
 "cells": [
  {
   "attachments": {},
   "cell_type": "markdown",
   "id": "123456",
   "metadata": {},
   "source": [
    "<div style=\"text-align:left;font-size:2em\"><span style=\"font-weight:bolder;font-size:1.25em\">SP2273 | Learning Portfolio</span><br><br><span style=\"font-weight:bold;color:darkred\">Loops (Need) Exercises</span></div>"
   ]
  },
  {
   "cell_type": "code",
   "execution_count": 1,
   "id": "881268f2-2e7d-4b47-8e38-3b70be6b0f56",
   "metadata": {},
   "outputs": [
    {
     "name": "stdout",
     "output_type": "stream",
     "text": [
      "0 equals to 32.0\n",
      "5 equals to 41.0\n",
      "10 equals to 50.0\n",
      "15 equals to 59.0\n",
      "20 equals to 68.0\n",
      "25 equals to 77.0\n",
      "30 equals to 86.0\n",
      "35 equals to 95.0\n",
      "40 equals to 104.0\n",
      "45 equals to 113.0\n",
      "50 equals to 122.0\n"
     ]
    }
   ],
   "source": [
    "temperatures_celsius = [\n",
    "    0, 5, 10, 15, 20, 25,\n",
    "    30, 35, 40, 45, 50\n",
    "]\n",
    "for c in temperatures_celsius:\n",
    "    F = c * 9/5 + 32\n",
    "    print(f\"{c} equals to {F}\")"
   ]
  },
  {
   "cell_type": "code",
   "execution_count": 2,
   "id": "9c8a7533-d76c-4197-9767-d28c81a3ad7f",
   "metadata": {},
   "outputs": [
    {
     "name": "stdout",
     "output_type": "stream",
     "text": [
      "1:1   2   3   4   5   \n",
      "\n",
      "2:2   4   6   8   10  \n",
      "\n",
      "3:3   6   9   12  15  \n",
      "\n",
      "4:4   8   12  16  20  \n",
      "\n",
      "5:5   10  15  20  25  \n",
      "\n"
     ]
    }
   ],
   "source": [
    "for number1 in [1, 2, 3, 4, 5]:\n",
    "    for number2 in [1, 2, 3, 4, 5]:\n",
    "        if number2 == 1:\n",
    "            if number1 * number2 >=10:\n",
    "                print(f\"{number1}:{number1*number2}\", end='  ')\n",
    "            else:\n",
    "                print(f\"{number1}:{number1*number2}\", end='   ')\n",
    "        else:\n",
    "            if number1 * number2 >= 10:\n",
    "                print(f\"{number1*number2}\", end='  ')\n",
    "            else:\n",
    "                print(f\"{number1*number2}\", end='   ')\n",
    "    print('\\n')"
   ]
  },
  {
   "cell_type": "code",
   "execution_count": null,
   "id": "63d2cb22-5bca-4842-bd2f-f888343ba0d7",
   "metadata": {},
   "outputs": [],
   "source": []
  }
 ],
 "metadata": {
  "kernelspec": {
   "display_name": "Python 3 (ipykernel)",
   "language": "python",
   "name": "python3"
  },
  "language_info": {
   "codemirror_mode": {
    "name": "ipython",
    "version": 3
   },
   "file_extension": ".py",
   "mimetype": "text/x-python",
   "name": "python",
   "nbconvert_exporter": "python",
   "pygments_lexer": "ipython3",
   "version": "3.11.5"
  },
  "toc": {
   "base_numbering": 1,
   "nav_menu": {},
   "number_sections": true,
   "sideBar": true,
   "skip_h1_title": false,
   "title_cell": "Table of Contents",
   "title_sidebar": "Contents",
   "toc_cell": false,
   "toc_position": {},
   "toc_section_display": true,
   "toc_window_display": false
  },
  "vscode": {
   "interpreter": {
    "hash": "31f2aee4e71d21fbe5cf8b01ff0e069b9275f58929596ceb00d14d90e3e16cd6"
   }
  }
 },
 "nbformat": 4,
 "nbformat_minor": 5
}
